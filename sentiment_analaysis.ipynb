{
 "cells": [
  {
   "cell_type": "markdown",
   "metadata": {},
   "source": [
    "#  Objectives:\n",
    "\n",
    "The Sentiment Analysis Project aims to develop an intelligent system based on AI technology to classify sentiment in Indonesian presidential election tweet data in the 2019 period using text analysis methods. This system will help identify trends in user opinions on the platform into three classes: positive, negative, or neutral.\n",
    "\n",
    "- Exploratory Data Analysis tweet data\n",
    "- Data preprocessing\n",
    "- Experimentation for model sentiment analysis, using\n",
    "  - Pretrained Model\n",
    "  - RNN + LSTM Model\n",
    "- Evaluate and choose the best model as sentiment analyzer"
   ]
  },
  {
   "cell_type": "markdown",
   "metadata": {},
   "source": [
    "## Load base library and data"
   ]
  },
  {
   "cell_type": "code",
   "execution_count": 225,
   "metadata": {},
   "outputs": [],
   "source": [
    "# import libs\n",
    "import pandas as pd\n",
    "import numpy as np\n",
    "import matplotlib.pyplot as plt\n",
    "import seaborn as sns\n",
    "plt.style.use('ggplot')\n",
    "import warnings\n",
    "warnings.filterwarnings('ignore')"
   ]
  },
  {
   "cell_type": "code",
   "execution_count": 226,
   "metadata": {},
   "outputs": [],
   "source": [
    "df =  pd.read_csv('./data/tweet.csv')"
   ]
  },
  {
   "cell_type": "markdown",
   "metadata": {},
   "source": [
    "## EDA"
   ]
  },
  {
   "cell_type": "code",
   "execution_count": 227,
   "metadata": {},
   "outputs": [
    {
     "data": {
      "text/html": [
       "<div>\n",
       "<style scoped>\n",
       "    .dataframe tbody tr th:only-of-type {\n",
       "        vertical-align: middle;\n",
       "    }\n",
       "\n",
       "    .dataframe tbody tr th {\n",
       "        vertical-align: top;\n",
       "    }\n",
       "\n",
       "    .dataframe thead th {\n",
       "        text-align: right;\n",
       "    }\n",
       "</style>\n",
       "<table border=\"1\" class=\"dataframe\">\n",
       "  <thead>\n",
       "    <tr style=\"text-align: right;\">\n",
       "      <th></th>\n",
       "      <th>Unnamed: 0</th>\n",
       "      <th>sentimen</th>\n",
       "      <th>tweet</th>\n",
       "    </tr>\n",
       "  </thead>\n",
       "  <tbody>\n",
       "    <tr>\n",
       "      <th>0</th>\n",
       "      <td>0</td>\n",
       "      <td>negatif</td>\n",
       "      <td>Kata @prabowo Indonesia tidak dihargai bangsa asing!   Berita ini ðŸ‘‡ pasti hoax buatan penguasa, ya kan @rockygerung?ðŸ˜œ https://twitter.com/mediaindonesia/status/1117575436337160192?s=21Â â€¦</td>\n",
       "    </tr>\n",
       "    <tr>\n",
       "      <th>1</th>\n",
       "      <td>1</td>\n",
       "      <td>netral</td>\n",
       "      <td>Batuan Langka, Tasbih Jokowi Hadiah dari Habib Luthfi Seharga Mercy?  http://dlvr.it/R2pvZVÂ</td>\n",
       "    </tr>\n",
       "    <tr>\n",
       "      <th>2</th>\n",
       "      <td>2</td>\n",
       "      <td>netral</td>\n",
       "      <td>Di era Jokowi, ekonomi Indonesia semakin baik. #01IndonesiaMaju #JokowiLagi #JokowiMenangTotalDebat pic.twitter.com/W2ythnxsTp</td>\n",
       "    </tr>\n",
       "    <tr>\n",
       "      <th>3</th>\n",
       "      <td>3</td>\n",
       "      <td>positif</td>\n",
       "      <td>Bagi Sumatera Selatan, Asian Games berdampak pd ekonomi langsung diprediksi mencapai 18,5 triliun. Indonesia maju, Jokowi hebat!</td>\n",
       "    </tr>\n",
       "    <tr>\n",
       "      <th>4</th>\n",
       "      <td>4</td>\n",
       "      <td>negatif</td>\n",
       "      <td>Negara kita ngutang buat bngun infrastruktur yang udah dipake masyarakat, terus masyarakatnya ngeluh karena negara ngutang, setiap negara itu pasti ngutang,  utang bisa dibayar kalo negara dapet penghasilan. Penghasilan negara itu ya dari pajak</td>\n",
       "    </tr>\n",
       "  </tbody>\n",
       "</table>\n",
       "</div>"
      ],
      "text/plain": [
       "   Unnamed: 0 sentimen  \\\n",
       "0           0  negatif   \n",
       "1           1   netral   \n",
       "2           2   netral   \n",
       "3           3  positif   \n",
       "4           4  negatif   \n",
       "\n",
       "                                                                                                                                                                                                                                                  tweet  \n",
       "0                                                   Kata @prabowo Indonesia tidak dihargai bangsa asing!   Berita ini ðŸ‘‡ pasti hoax buatan penguasa, ya kan @rockygerung?ðŸ˜œ https://twitter.com/mediaindonesia/status/1117575436337160192?s=21Â â€¦  \n",
       "1                                                                                                                                                         Batuan Langka, Tasbih Jokowi Hadiah dari Habib Luthfi Seharga Mercy?  http://dlvr.it/R2pvZVÂ   \n",
       "2                                                                                                                        Di era Jokowi, ekonomi Indonesia semakin baik. #01IndonesiaMaju #JokowiLagi #JokowiMenangTotalDebat pic.twitter.com/W2ythnxsTp  \n",
       "3                                                                                                                      Bagi Sumatera Selatan, Asian Games berdampak pd ekonomi langsung diprediksi mencapai 18,5 triliun. Indonesia maju, Jokowi hebat!  \n",
       "4  Negara kita ngutang buat bngun infrastruktur yang udah dipake masyarakat, terus masyarakatnya ngeluh karena negara ngutang, setiap negara itu pasti ngutang,  utang bisa dibayar kalo negara dapet penghasilan. Penghasilan negara itu ya dari pajak  "
      ]
     },
     "execution_count": 227,
     "metadata": {},
     "output_type": "execute_result"
    }
   ],
   "source": [
    "df.head()"
   ]
  },
  {
   "cell_type": "code",
   "execution_count": 228,
   "metadata": {},
   "outputs": [
    {
     "data": {
      "text/plain": [
       "Unnamed: 0    0\n",
       "sentimen      0\n",
       "tweet         0\n",
       "dtype: int64"
      ]
     },
     "execution_count": 228,
     "metadata": {},
     "output_type": "execute_result"
    }
   ],
   "source": [
    "df.isnull().sum()"
   ]
  },
  {
   "cell_type": "code",
   "execution_count": 229,
   "metadata": {},
   "outputs": [
    {
     "data": {
      "text/plain": [
       "sentimen\n",
       "positif    612\n",
       "netral     607\n",
       "negatif    596\n",
       "Name: count, dtype: int64"
      ]
     },
     "execution_count": 229,
     "metadata": {},
     "output_type": "execute_result"
    }
   ],
   "source": [
    "df['sentimen'].value_counts()"
   ]
  },
  {
   "cell_type": "markdown",
   "metadata": {},
   "source": [
    "## Data Prepocessing"
   ]
  },
  {
   "cell_type": "markdown",
   "metadata": {},
   "source": [
    "###  Data Cleaning"
   ]
  },
  {
   "cell_type": "code",
   "execution_count": 230,
   "metadata": {},
   "outputs": [],
   "source": [
    "# Copy data to ensure the original data is safe\n",
    "df_temp = df.copy()"
   ]
  },
  {
   "cell_type": "code",
   "execution_count": 231,
   "metadata": {},
   "outputs": [],
   "source": [
    "# Hot encoding for all the class\n",
    "label_mapping = {'negatif': 0, 'netral': 1, 'positif': 2}\n",
    "\n",
    "# Ensure the 'sentimen' column is in string format, strip spaces and convert to lowercase\n",
    "df_temp['sentimen'] = df_temp['sentimen'].astype(str).str.strip().str.lower()\n",
    "\n",
    "# Map the values\n",
    "df_temp['encoded_sentiment_value'] = df_temp['sentimen'].map(label_mapping)"
   ]
  },
  {
   "cell_type": "code",
   "execution_count": 232,
   "metadata": {},
   "outputs": [
    {
     "data": {
      "text/html": [
       "<div>\n",
       "<style scoped>\n",
       "    .dataframe tbody tr th:only-of-type {\n",
       "        vertical-align: middle;\n",
       "    }\n",
       "\n",
       "    .dataframe tbody tr th {\n",
       "        vertical-align: top;\n",
       "    }\n",
       "\n",
       "    .dataframe thead th {\n",
       "        text-align: right;\n",
       "    }\n",
       "</style>\n",
       "<table border=\"1\" class=\"dataframe\">\n",
       "  <thead>\n",
       "    <tr style=\"text-align: right;\">\n",
       "      <th></th>\n",
       "      <th>Unnamed: 0</th>\n",
       "      <th>sentimen</th>\n",
       "      <th>tweet</th>\n",
       "      <th>encoded_sentiment_value</th>\n",
       "    </tr>\n",
       "  </thead>\n",
       "  <tbody>\n",
       "    <tr>\n",
       "      <th>0</th>\n",
       "      <td>0</td>\n",
       "      <td>negatif</td>\n",
       "      <td>Kata @prabowo Indonesia tidak dihargai bangsa asing!   Berita ini ðŸ‘‡ pasti hoax buatan penguasa, ya kan @rockygerung?ðŸ˜œ https://twitter.com/mediaindonesia/status/1117575436337160192?s=21Â â€¦</td>\n",
       "      <td>0</td>\n",
       "    </tr>\n",
       "    <tr>\n",
       "      <th>1</th>\n",
       "      <td>1</td>\n",
       "      <td>netral</td>\n",
       "      <td>Batuan Langka, Tasbih Jokowi Hadiah dari Habib Luthfi Seharga Mercy?  http://dlvr.it/R2pvZVÂ</td>\n",
       "      <td>1</td>\n",
       "    </tr>\n",
       "    <tr>\n",
       "      <th>2</th>\n",
       "      <td>2</td>\n",
       "      <td>netral</td>\n",
       "      <td>Di era Jokowi, ekonomi Indonesia semakin baik. #01IndonesiaMaju #JokowiLagi #JokowiMenangTotalDebat pic.twitter.com/W2ythnxsTp</td>\n",
       "      <td>1</td>\n",
       "    </tr>\n",
       "    <tr>\n",
       "      <th>3</th>\n",
       "      <td>3</td>\n",
       "      <td>positif</td>\n",
       "      <td>Bagi Sumatera Selatan, Asian Games berdampak pd ekonomi langsung diprediksi mencapai 18,5 triliun. Indonesia maju, Jokowi hebat!</td>\n",
       "      <td>2</td>\n",
       "    </tr>\n",
       "    <tr>\n",
       "      <th>4</th>\n",
       "      <td>4</td>\n",
       "      <td>negatif</td>\n",
       "      <td>Negara kita ngutang buat bngun infrastruktur yang udah dipake masyarakat, terus masyarakatnya ngeluh karena negara ngutang, setiap negara itu pasti ngutang,  utang bisa dibayar kalo negara dapet penghasilan. Penghasilan negara itu ya dari pajak</td>\n",
       "      <td>0</td>\n",
       "    </tr>\n",
       "  </tbody>\n",
       "</table>\n",
       "</div>"
      ],
      "text/plain": [
       "   Unnamed: 0 sentimen  \\\n",
       "0           0  negatif   \n",
       "1           1   netral   \n",
       "2           2   netral   \n",
       "3           3  positif   \n",
       "4           4  negatif   \n",
       "\n",
       "                                                                                                                                                                                                                                                  tweet  \\\n",
       "0                                                   Kata @prabowo Indonesia tidak dihargai bangsa asing!   Berita ini ðŸ‘‡ pasti hoax buatan penguasa, ya kan @rockygerung?ðŸ˜œ https://twitter.com/mediaindonesia/status/1117575436337160192?s=21Â â€¦   \n",
       "1                                                                                                                                                         Batuan Langka, Tasbih Jokowi Hadiah dari Habib Luthfi Seharga Mercy?  http://dlvr.it/R2pvZVÂ    \n",
       "2                                                                                                                        Di era Jokowi, ekonomi Indonesia semakin baik. #01IndonesiaMaju #JokowiLagi #JokowiMenangTotalDebat pic.twitter.com/W2ythnxsTp   \n",
       "3                                                                                                                      Bagi Sumatera Selatan, Asian Games berdampak pd ekonomi langsung diprediksi mencapai 18,5 triliun. Indonesia maju, Jokowi hebat!   \n",
       "4  Negara kita ngutang buat bngun infrastruktur yang udah dipake masyarakat, terus masyarakatnya ngeluh karena negara ngutang, setiap negara itu pasti ngutang,  utang bisa dibayar kalo negara dapet penghasilan. Penghasilan negara itu ya dari pajak   \n",
       "\n",
       "   encoded_sentiment_value  \n",
       "0                        0  \n",
       "1                        1  \n",
       "2                        1  \n",
       "3                        2  \n",
       "4                        0  "
      ]
     },
     "execution_count": 232,
     "metadata": {},
     "output_type": "execute_result"
    }
   ],
   "source": [
    "df_temp.head()"
   ]
  },
  {
   "cell_type": "code",
   "execution_count": 233,
   "metadata": {},
   "outputs": [],
   "source": [
    "# Drop unescessary index column\n",
    "df_temp = df_temp.drop(['Unnamed: 0'], axis=1)"
   ]
  },
  {
   "cell_type": "markdown",
   "metadata": {},
   "source": [
    "### Polarity Checking"
   ]
  },
  {
   "cell_type": "code",
   "execution_count": 234,
   "metadata": {},
   "outputs": [],
   "source": [
    "# Load the positive and negative lexicons\n",
    "lexicon_positive = pd.read_csv('./data/positive.tsv', delimiter='\\t', names=['word', 'score'], header=None)\n",
    "lexicon_negative = pd.read_csv('./data/negative.tsv', delimiter='\\t', names=['word', 'score'], header=None)"
   ]
  },
  {
   "cell_type": "code",
   "execution_count": 235,
   "metadata": {},
   "outputs": [],
   "source": [
    "# Ensure the scores are integers\n",
    "lexicon_positive['score'] = lexicon_positive['score'].astype(int)\n",
    "lexicon_negative['score'] = lexicon_negative['score'].astype(int)"
   ]
  },
  {
   "cell_type": "code",
   "execution_count": 236,
   "metadata": {},
   "outputs": [],
   "source": [
    "# Convert lexicons to dictionaries\n",
    "lexicon_positive = dict(zip(lexicon_positive['word'], lexicon_positive['score']))\n",
    "lexicon_negative = dict(zip(lexicon_negative['word'], lexicon_negative['score']))"
   ]
  },
  {
   "cell_type": "code",
   "execution_count": 237,
   "metadata": {},
   "outputs": [],
   "source": [
    "# Function to determine sentiment polarity of tweets\n",
    "def sentiment_analysis_lexicon_indonesia(text):\n",
    "    score = 0\n",
    "    words = text.split()\n",
    "    for word in words:\n",
    "        if word in lexicon_positive:\n",
    "            score += lexicon_positive[word]\n",
    "        if word in lexicon_negative:\n",
    "            score += lexicon_negative[word]\n",
    "    if score > 0:\n",
    "        polarity = 'positif'\n",
    "    elif score < 0:\n",
    "        polarity = 'negatif'\n",
    "    else:\n",
    "        polarity = 'netral'\n",
    "    return score, polarity"
   ]
  },
  {
   "cell_type": "code",
   "execution_count": 238,
   "metadata": {},
   "outputs": [],
   "source": [
    "# Apply the sentiment analysis function\n",
    "df_temp['polarity_score'], df_temp['predicted_sentiment'] = zip(*df_temp['tweet'].apply(sentiment_analysis_lexicon_indonesia))"
   ]
  },
  {
   "cell_type": "code",
   "execution_count": 239,
   "metadata": {},
   "outputs": [
    {
     "name": "stdout",
     "output_type": "stream",
     "text": [
      "Matches: 776, Mismatches: 1039\n"
     ]
    },
    {
     "data": {
      "text/html": [
       "<div>\n",
       "<style scoped>\n",
       "    .dataframe tbody tr th:only-of-type {\n",
       "        vertical-align: middle;\n",
       "    }\n",
       "\n",
       "    .dataframe tbody tr th {\n",
       "        vertical-align: top;\n",
       "    }\n",
       "\n",
       "    .dataframe thead th {\n",
       "        text-align: right;\n",
       "    }\n",
       "</style>\n",
       "<table border=\"1\" class=\"dataframe\">\n",
       "  <thead>\n",
       "    <tr style=\"text-align: right;\">\n",
       "      <th></th>\n",
       "      <th>sentimen</th>\n",
       "      <th>tweet</th>\n",
       "      <th>encoded_sentiment_value</th>\n",
       "      <th>polarity_score</th>\n",
       "      <th>predicted_sentiment</th>\n",
       "      <th>sentiment_match</th>\n",
       "    </tr>\n",
       "  </thead>\n",
       "  <tbody>\n",
       "    <tr>\n",
       "      <th>0</th>\n",
       "      <td>negatif</td>\n",
       "      <td>Kata @prabowo Indonesia tidak dihargai bangsa asing!   Berita ini ðŸ‘‡ pasti hoax buatan penguasa, ya kan @rockygerung?ðŸ˜œ https://twitter.com/mediaindonesia/status/1117575436337160192?s=21Â â€¦</td>\n",
       "      <td>0</td>\n",
       "      <td>0</td>\n",
       "      <td>netral</td>\n",
       "      <td>False</td>\n",
       "    </tr>\n",
       "    <tr>\n",
       "      <th>1</th>\n",
       "      <td>netral</td>\n",
       "      <td>Batuan Langka, Tasbih Jokowi Hadiah dari Habib Luthfi Seharga Mercy?  http://dlvr.it/R2pvZVÂ</td>\n",
       "      <td>1</td>\n",
       "      <td>-3</td>\n",
       "      <td>negatif</td>\n",
       "      <td>False</td>\n",
       "    </tr>\n",
       "    <tr>\n",
       "      <th>2</th>\n",
       "      <td>netral</td>\n",
       "      <td>Di era Jokowi, ekonomi Indonesia semakin baik. #01IndonesiaMaju #JokowiLagi #JokowiMenangTotalDebat pic.twitter.com/W2ythnxsTp</td>\n",
       "      <td>1</td>\n",
       "      <td>2</td>\n",
       "      <td>positif</td>\n",
       "      <td>False</td>\n",
       "    </tr>\n",
       "    <tr>\n",
       "      <th>3</th>\n",
       "      <td>positif</td>\n",
       "      <td>Bagi Sumatera Selatan, Asian Games berdampak pd ekonomi langsung diprediksi mencapai 18,5 triliun. Indonesia maju, Jokowi hebat!</td>\n",
       "      <td>2</td>\n",
       "      <td>3</td>\n",
       "      <td>positif</td>\n",
       "      <td>True</td>\n",
       "    </tr>\n",
       "    <tr>\n",
       "      <th>4</th>\n",
       "      <td>negatif</td>\n",
       "      <td>Negara kita ngutang buat bngun infrastruktur yang udah dipake masyarakat, terus masyarakatnya ngeluh karena negara ngutang, setiap negara itu pasti ngutang,  utang bisa dibayar kalo negara dapet penghasilan. Penghasilan negara itu ya dari pajak</td>\n",
       "      <td>0</td>\n",
       "      <td>-13</td>\n",
       "      <td>negatif</td>\n",
       "      <td>True</td>\n",
       "    </tr>\n",
       "  </tbody>\n",
       "</table>\n",
       "</div>"
      ],
      "text/plain": [
       "  sentimen  \\\n",
       "0  negatif   \n",
       "1   netral   \n",
       "2   netral   \n",
       "3  positif   \n",
       "4  negatif   \n",
       "\n",
       "                                                                                                                                                                                                                                                  tweet  \\\n",
       "0                                                   Kata @prabowo Indonesia tidak dihargai bangsa asing!   Berita ini ðŸ‘‡ pasti hoax buatan penguasa, ya kan @rockygerung?ðŸ˜œ https://twitter.com/mediaindonesia/status/1117575436337160192?s=21Â â€¦   \n",
       "1                                                                                                                                                         Batuan Langka, Tasbih Jokowi Hadiah dari Habib Luthfi Seharga Mercy?  http://dlvr.it/R2pvZVÂ    \n",
       "2                                                                                                                        Di era Jokowi, ekonomi Indonesia semakin baik. #01IndonesiaMaju #JokowiLagi #JokowiMenangTotalDebat pic.twitter.com/W2ythnxsTp   \n",
       "3                                                                                                                      Bagi Sumatera Selatan, Asian Games berdampak pd ekonomi langsung diprediksi mencapai 18,5 triliun. Indonesia maju, Jokowi hebat!   \n",
       "4  Negara kita ngutang buat bngun infrastruktur yang udah dipake masyarakat, terus masyarakatnya ngeluh karena negara ngutang, setiap negara itu pasti ngutang,  utang bisa dibayar kalo negara dapet penghasilan. Penghasilan negara itu ya dari pajak   \n",
       "\n",
       "   encoded_sentiment_value  polarity_score predicted_sentiment  \\\n",
       "0                        0               0              netral   \n",
       "1                        1              -3             negatif   \n",
       "2                        1               2             positif   \n",
       "3                        2               3             positif   \n",
       "4                        0             -13             negatif   \n",
       "\n",
       "   sentiment_match  \n",
       "0            False  \n",
       "1            False  \n",
       "2            False  \n",
       "3             True  \n",
       "4             True  "
      ]
     },
     "execution_count": 239,
     "metadata": {},
     "output_type": "execute_result"
    }
   ],
   "source": [
    "# Determine if the predicted sentiment matches the original sentiment\n",
    "df_temp['sentiment_match'] = df_temp['sentimen'] == df_temp['predicted_sentiment']\n",
    "\n",
    "# Count the number of matches and mismatches\n",
    "matches = df_temp['sentiment_match'].sum()\n",
    "mismatches = len(df_temp) - matches\n",
    "\n",
    "print(f'Matches: {matches}, Mismatches: {mismatches}')\n",
    "\n",
    "# Show a few rows of the dataframe for verification\n",
    "df_temp.head()"
   ]
  },
  {
   "cell_type": "code",
   "execution_count": 240,
   "metadata": {},
   "outputs": [],
   "source": [
    "match_counts = df_temp.groupby(['sentimen', 'sentiment_match']).size().reset_index(name='counts')"
   ]
  },
  {
   "cell_type": "code",
   "execution_count": 241,
   "metadata": {},
   "outputs": [
    {
     "data": {
      "image/png": "[encoded data removed]",
      "text/plain": [
       "<Figure size 1000x600 with 1 Axes>"
      ]
     },
     "metadata": {},
     "output_type": "display_data"
    }
   ],
   "source": [
    "# Plotting\n",
    "plt.figure(figsize=(10, 6))\n",
    "sns.barplot(data=match_counts, x='sentimen', y='counts', hue='sentiment_match')\n",
    "plt.title('Distribution of Matches and Mismatches by Sentiment Category')\n",
    "plt.xlabel('Sentiment Category')\n",
    "plt.ylabel('Count')\n",
    "plt.legend(title='Sentiment Match', loc='upper right', labels=['Mismatch', 'Match'])\n",
    "plt.show()"
   ]
  },
  {
   "cell_type": "code",
   "execution_count": 242,
   "metadata": {},
   "outputs": [],
   "source": [
    "df_polar = df_temp.drop(['sentimen', 'encoded_sentiment_value', 'sentiment_match'], axis=1)"
   ]
  },
  {
   "cell_type": "code",
   "execution_count": 243,
   "metadata": {},
   "outputs": [
    {
     "data": {
      "text/html": [
       "<div>\n",
       "<style scoped>\n",
       "    .dataframe tbody tr th:only-of-type {\n",
       "        vertical-align: middle;\n",
       "    }\n",
       "\n",
       "    .dataframe tbody tr th {\n",
       "        vertical-align: top;\n",
       "    }\n",
       "\n",
       "    .dataframe thead th {\n",
       "        text-align: right;\n",
       "    }\n",
       "</style>\n",
       "<table border=\"1\" class=\"dataframe\">\n",
       "  <thead>\n",
       "    <tr style=\"text-align: right;\">\n",
       "      <th></th>\n",
       "      <th>tweet</th>\n",
       "      <th>polarity_score</th>\n",
       "      <th>predicted_sentiment</th>\n",
       "    </tr>\n",
       "  </thead>\n",
       "  <tbody>\n",
       "    <tr>\n",
       "      <th>0</th>\n",
       "      <td>Kata @prabowo Indonesia tidak dihargai bangsa asing!   Berita ini ðŸ‘‡ pasti hoax buatan penguasa, ya kan @rockygerung?ðŸ˜œ https://twitter.com/mediaindonesia/status/1117575436337160192?s=21Â â€¦</td>\n",
       "      <td>0</td>\n",
       "      <td>netral</td>\n",
       "    </tr>\n",
       "    <tr>\n",
       "      <th>1</th>\n",
       "      <td>Batuan Langka, Tasbih Jokowi Hadiah dari Habib Luthfi Seharga Mercy?  http://dlvr.it/R2pvZVÂ</td>\n",
       "      <td>-3</td>\n",
       "      <td>negatif</td>\n",
       "    </tr>\n",
       "    <tr>\n",
       "      <th>2</th>\n",
       "      <td>Di era Jokowi, ekonomi Indonesia semakin baik. #01IndonesiaMaju #JokowiLagi #JokowiMenangTotalDebat pic.twitter.com/W2ythnxsTp</td>\n",
       "      <td>2</td>\n",
       "      <td>positif</td>\n",
       "    </tr>\n",
       "    <tr>\n",
       "      <th>3</th>\n",
       "      <td>Bagi Sumatera Selatan, Asian Games berdampak pd ekonomi langsung diprediksi mencapai 18,5 triliun. Indonesia maju, Jokowi hebat!</td>\n",
       "      <td>3</td>\n",
       "      <td>positif</td>\n",
       "    </tr>\n",
       "    <tr>\n",
       "      <th>4</th>\n",
       "      <td>Negara kita ngutang buat bngun infrastruktur yang udah dipake masyarakat, terus masyarakatnya ngeluh karena negara ngutang, setiap negara itu pasti ngutang,  utang bisa dibayar kalo negara dapet penghasilan. Penghasilan negara itu ya dari pajak</td>\n",
       "      <td>-13</td>\n",
       "      <td>negatif</td>\n",
       "    </tr>\n",
       "  </tbody>\n",
       "</table>\n",
       "</div>"
      ],
      "text/plain": [
       "                                                                                                                                                                                                                                                  tweet  \\\n",
       "0                                                   Kata @prabowo Indonesia tidak dihargai bangsa asing!   Berita ini ðŸ‘‡ pasti hoax buatan penguasa, ya kan @rockygerung?ðŸ˜œ https://twitter.com/mediaindonesia/status/1117575436337160192?s=21Â â€¦   \n",
       "1                                                                                                                                                         Batuan Langka, Tasbih Jokowi Hadiah dari Habib Luthfi Seharga Mercy?  http://dlvr.it/R2pvZVÂ    \n",
       "2                                                                                                                        Di era Jokowi, ekonomi Indonesia semakin baik. #01IndonesiaMaju #JokowiLagi #JokowiMenangTotalDebat pic.twitter.com/W2ythnxsTp   \n",
       "3                                                                                                                      Bagi Sumatera Selatan, Asian Games berdampak pd ekonomi langsung diprediksi mencapai 18,5 triliun. Indonesia maju, Jokowi hebat!   \n",
       "4  Negara kita ngutang buat bngun infrastruktur yang udah dipake masyarakat, terus masyarakatnya ngeluh karena negara ngutang, setiap negara itu pasti ngutang,  utang bisa dibayar kalo negara dapet penghasilan. Penghasilan negara itu ya dari pajak   \n",
       "\n",
       "   polarity_score predicted_sentiment  \n",
       "0               0              netral  \n",
       "1              -3             negatif  \n",
       "2               2             positif  \n",
       "3               3             positif  \n",
       "4             -13             negatif  "
      ]
     },
     "execution_count": 243,
     "metadata": {},
     "output_type": "execute_result"
    }
   ],
   "source": [
    "df_polar.head()"
   ]
  },
  {
   "cell_type": "code",
   "execution_count": 244,
   "metadata": {},
   "outputs": [],
   "source": [
    "# Map the values\n",
    "df_polar['sentimen'] = df_polar['predicted_sentiment'].map(label_mapping)\n",
    "df_polar = df_polar.drop(['predicted_sentiment'], axis=1)"
   ]
  },
  {
   "cell_type": "code",
   "execution_count": 245,
   "metadata": {},
   "outputs": [
    {
     "data": {
      "text/html": [
       "<div>\n",
       "<style scoped>\n",
       "    .dataframe tbody tr th:only-of-type {\n",
       "        vertical-align: middle;\n",
       "    }\n",
       "\n",
       "    .dataframe tbody tr th {\n",
       "        vertical-align: top;\n",
       "    }\n",
       "\n",
       "    .dataframe thead th {\n",
       "        text-align: right;\n",
       "    }\n",
       "</style>\n",
       "<table border=\"1\" class=\"dataframe\">\n",
       "  <thead>\n",
       "    <tr style=\"text-align: right;\">\n",
       "      <th></th>\n",
       "      <th>tweet</th>\n",
       "      <th>polarity_score</th>\n",
       "      <th>sentimen</th>\n",
       "    </tr>\n",
       "  </thead>\n",
       "  <tbody>\n",
       "    <tr>\n",
       "      <th>0</th>\n",
       "      <td>Kata @prabowo Indonesia tidak dihargai bangsa asing!   Berita ini ðŸ‘‡ pasti hoax buatan penguasa, ya kan @rockygerung?ðŸ˜œ https://twitter.com/mediaindonesia/status/1117575436337160192?s=21Â â€¦</td>\n",
       "      <td>0</td>\n",
       "      <td>1</td>\n",
       "    </tr>\n",
       "    <tr>\n",
       "      <th>1</th>\n",
       "      <td>Batuan Langka, Tasbih Jokowi Hadiah dari Habib Luthfi Seharga Mercy?  http://dlvr.it/R2pvZVÂ</td>\n",
       "      <td>-3</td>\n",
       "      <td>0</td>\n",
       "    </tr>\n",
       "    <tr>\n",
       "      <th>2</th>\n",
       "      <td>Di era Jokowi, ekonomi Indonesia semakin baik. #01IndonesiaMaju #JokowiLagi #JokowiMenangTotalDebat pic.twitter.com/W2ythnxsTp</td>\n",
       "      <td>2</td>\n",
       "      <td>2</td>\n",
       "    </tr>\n",
       "    <tr>\n",
       "      <th>3</th>\n",
       "      <td>Bagi Sumatera Selatan, Asian Games berdampak pd ekonomi langsung diprediksi mencapai 18,5 triliun. Indonesia maju, Jokowi hebat!</td>\n",
       "      <td>3</td>\n",
       "      <td>2</td>\n",
       "    </tr>\n",
       "    <tr>\n",
       "      <th>4</th>\n",
       "      <td>Negara kita ngutang buat bngun infrastruktur yang udah dipake masyarakat, terus masyarakatnya ngeluh karena negara ngutang, setiap negara itu pasti ngutang,  utang bisa dibayar kalo negara dapet penghasilan. Penghasilan negara itu ya dari pajak</td>\n",
       "      <td>-13</td>\n",
       "      <td>0</td>\n",
       "    </tr>\n",
       "  </tbody>\n",
       "</table>\n",
       "</div>"
      ],
      "text/plain": [
       "                                                                                                                                                                                                                                                  tweet  \\\n",
       "0                                                   Kata @prabowo Indonesia tidak dihargai bangsa asing!   Berita ini ðŸ‘‡ pasti hoax buatan penguasa, ya kan @rockygerung?ðŸ˜œ https://twitter.com/mediaindonesia/status/1117575436337160192?s=21Â â€¦   \n",
       "1                                                                                                                                                         Batuan Langka, Tasbih Jokowi Hadiah dari Habib Luthfi Seharga Mercy?  http://dlvr.it/R2pvZVÂ    \n",
       "2                                                                                                                        Di era Jokowi, ekonomi Indonesia semakin baik. #01IndonesiaMaju #JokowiLagi #JokowiMenangTotalDebat pic.twitter.com/W2ythnxsTp   \n",
       "3                                                                                                                      Bagi Sumatera Selatan, Asian Games berdampak pd ekonomi langsung diprediksi mencapai 18,5 triliun. Indonesia maju, Jokowi hebat!   \n",
       "4  Negara kita ngutang buat bngun infrastruktur yang udah dipake masyarakat, terus masyarakatnya ngeluh karena negara ngutang, setiap negara itu pasti ngutang,  utang bisa dibayar kalo negara dapet penghasilan. Penghasilan negara itu ya dari pajak   \n",
       "\n",
       "   polarity_score  sentimen  \n",
       "0               0         1  \n",
       "1              -3         0  \n",
       "2               2         2  \n",
       "3               3         2  \n",
       "4             -13         0  "
      ]
     },
     "execution_count": 245,
     "metadata": {},
     "output_type": "execute_result"
    }
   ],
   "source": [
    "df_polar.head()"
   ]
  },
  {
   "cell_type": "markdown",
   "metadata": {},
   "source": [
    "### Text Cleaning"
   ]
  },
  {
   "cell_type": "code",
   "execution_count": 246,
   "metadata": {},
   "outputs": [],
   "source": [
    "import re"
   ]
  },
  {
   "cell_type": "markdown",
   "metadata": {},
   "source": [
    "#### Remove emoji"
   ]
  },
  {
   "cell_type": "code",
   "execution_count": 247,
   "metadata": {},
   "outputs": [],
   "source": [
    "emojis = pd.read_csv('./data/emojis.csv')\n",
    "emojis = list(emojis['emoji'])\n",
    "suff_emojis = list(set(map(lambda x:x[0],emojis)))\n",
    "\n",
    "def remove_emoji(text):\n",
    "  pattern = []\n",
    "  for suff in suff_emojis:\n",
    "    pattern.append(f'{suff}[\\w\\s]*')\n",
    "  pattern = '|'.join(pattern)\n",
    "  compile_pattern = re.compile(pattern)\n",
    "  text = compile_pattern.sub(' ', text)\n",
    "  text = re.sub(r'[^\\w\\s]', ' ', text)\n",
    "  res = re.sub(r'\\s{2,}', ' ', text)\n",
    "  return res"
   ]
  },
  {
   "cell_type": "markdown",
   "metadata": {},
   "source": [
    "#### Remove regex related"
   ]
  },
  {
   "cell_type": "code",
   "execution_count": 248,
   "metadata": {},
   "outputs": [],
   "source": [
    "def remove_urls(text):\n",
    "    url_pattern = re.compile(r'https?://\\S+|www\\.\\S+')\n",
    "    return url_pattern.sub(r'', str(text))\n",
    "\n",
    "def cleaning_pic_urls (text):\n",
    "    text = re.sub(r'pic.twitter.com/[\\w]*',\"\", text)\n",
    "    return text\n",
    "\n",
    "def remove_mentions(text):\n",
    "    mention_pattern = re.compile(r'@[\\W]*')\n",
    "    return mention_pattern.sub(r' ',text)\n",
    "\n",
    "def remove_hashtags(text):\n",
    "    return text.replace(r'#', '')\n",
    "\n",
    "def remove_punctuation(text):\n",
    "    punctuations = '''!()-[]{};:'\"\\,<>./?@#$%^&*_~'''\n",
    "    return ''.join(' ' if char in punctuations else char for char in text)"
   ]
  },
  {
   "cell_type": "markdown",
   "metadata": {},
   "source": [
    "#### Case Folding & white spaces"
   ]
  },
  {
   "cell_type": "code",
   "execution_count": 249,
   "metadata": {},
   "outputs": [],
   "source": [
    "def normalize_whitespace(text):\n",
    "    return ' '.join(text.split())\n",
    "\n",
    "def case_folding(text):\n",
    "    return text.lower()"
   ]
  },
  {
   "cell_type": "markdown",
   "metadata": {},
   "source": [
    "#### Wrapper Func"
   ]
  },
  {
   "cell_type": "code",
   "execution_count": 250,
   "metadata": {},
   "outputs": [],
   "source": [
    "def clean_text(text):\n",
    "    text = remove_urls(text)\n",
    "    text = cleaning_pic_urls(text)\n",
    "    text = remove_emoji(text)\n",
    "    text = remove_hashtags(text)\n",
    "    text = remove_mentions(text)\n",
    "    text = remove_punctuation(text)\n",
    "    text = normalize_whitespace(text)\n",
    "    text = case_folding(text)\n",
    "    return text"
   ]
  },
  {
   "cell_type": "code",
   "execution_count": 251,
   "metadata": {},
   "outputs": [],
   "source": [
    "df_polar['tweet'] = df_polar['tweet'].apply(clean_text)"
   ]
  },
  {
   "cell_type": "code",
   "execution_count": 252,
   "metadata": {},
   "outputs": [
    {
     "data": {
      "text/html": [
       "<div>\n",
       "<style scoped>\n",
       "    .dataframe tbody tr th:only-of-type {\n",
       "        vertical-align: middle;\n",
       "    }\n",
       "\n",
       "    .dataframe tbody tr th {\n",
       "        vertical-align: top;\n",
       "    }\n",
       "\n",
       "    .dataframe thead th {\n",
       "        text-align: right;\n",
       "    }\n",
       "</style>\n",
       "<table border=\"1\" class=\"dataframe\">\n",
       "  <thead>\n",
       "    <tr style=\"text-align: right;\">\n",
       "      <th></th>\n",
       "      <th>tweet</th>\n",
       "      <th>polarity_score</th>\n",
       "      <th>sentimen</th>\n",
       "    </tr>\n",
       "  </thead>\n",
       "  <tbody>\n",
       "    <tr>\n",
       "      <th>0</th>\n",
       "      <td>kata prabowo indonesia tidak dihargai bangsa asing berita ini pasti hoax buatan penguasa ya kan rockygerung</td>\n",
       "      <td>0</td>\n",
       "      <td>1</td>\n",
       "    </tr>\n",
       "    <tr>\n",
       "      <th>1</th>\n",
       "      <td>batuan langka tasbih jokowi hadiah dari habib luthfi seharga mercy</td>\n",
       "      <td>-3</td>\n",
       "      <td>0</td>\n",
       "    </tr>\n",
       "    <tr>\n",
       "      <th>2</th>\n",
       "      <td>di era jokowi ekonomi indonesia semakin baik</td>\n",
       "      <td>2</td>\n",
       "      <td>2</td>\n",
       "    </tr>\n",
       "    <tr>\n",
       "      <th>3</th>\n",
       "      <td>bagi sumatera selatan asian games berdampak pd ekonomi langsung diprediksi mencapai indonesia maju jokowi hebat</td>\n",
       "      <td>3</td>\n",
       "      <td>2</td>\n",
       "    </tr>\n",
       "    <tr>\n",
       "      <th>4</th>\n",
       "      <td>negara kita ngutang buat bngun infrastruktur yang udah dipake masyarakat terus masyarakatnya ngeluh karena negara ngutang setiap negara itu pasti ngutang utang bisa dibayar kalo negara dapet penghasilan penghasilan negara itu ya dari pajak</td>\n",
       "      <td>-13</td>\n",
       "      <td>0</td>\n",
       "    </tr>\n",
       "    <tr>\n",
       "      <th>5</th>\n",
       "      <td>yg bisikin pak jokowi cm mikirin perputaran duit di golongan tertentu e sports hanya sebagian kecil dr sekian besar penentu pertumbuhan perekonomian indonesia bukan hal fundamental betul yg dikatakan prabowo walau dgn bhs yg sederhana tp mrpkan a...</td>\n",
       "      <td>-20</td>\n",
       "      <td>0</td>\n",
       "    </tr>\n",
       "    <tr>\n",
       "      <th>6</th>\n",
       "      <td>masa tenang msih ngoceh aja ttp jokowi harga mati</td>\n",
       "      <td>7</td>\n",
       "      <td>2</td>\n",
       "    </tr>\n",
       "    <tr>\n",
       "      <th>7</th>\n",
       "      <td>multilateral kita doakan di tps sambil dengarkan suara hati</td>\n",
       "      <td>1</td>\n",
       "      <td>2</td>\n",
       "    </tr>\n",
       "    <tr>\n",
       "      <th>8</th>\n",
       "      <td>iya bener aa kita mantap kan pilihan ke pemimpin yg bs memberi solusi jokowi bukan yg menyalahkan pemimpin sebelumnya sbyudhoyono dismash sm mas bowo percuma koalisi klau mengantam tmn koalisi yg plg penting pilih pemimpin yg rajin ibadah wajib b...</td>\n",
       "      <td>1</td>\n",
       "      <td>2</td>\n",
       "    </tr>\n",
       "    <tr>\n",
       "      <th>9</th>\n",
       "      <td>prabowo sandi sepakat tak ambil gaji karena negara sedang susah</td>\n",
       "      <td>-3</td>\n",
       "      <td>0</td>\n",
       "    </tr>\n",
       "    <tr>\n",
       "      <th>10</th>\n",
       "      <td>nah ini dia coblos</td>\n",
       "      <td>-7</td>\n",
       "      <td>0</td>\n",
       "    </tr>\n",
       "    <tr>\n",
       "      <th>11</th>\n",
       "      <td>calon presiden jokowi menjelaskan program kartu pra kerja akan memberikan insentif dalam kurun waktu tertentu bukan berarti memberikan gaji secara cuma cuma bagi masyarakat yang belum berpenghasilan</td>\n",
       "      <td>1</td>\n",
       "      <td>2</td>\n",
       "    </tr>\n",
       "    <tr>\n",
       "      <th>12</th>\n",
       "      <td>gak nginti lu to yunartowijaya dan si at abdillahtoha juga gak ngacaaa gak usah ngajarin sandi soal ekonomi dibanding jokowi</td>\n",
       "      <td>-6</td>\n",
       "      <td>0</td>\n",
       "    </tr>\n",
       "    <tr>\n",
       "      <th>13</th>\n",
       "      <td>menurut jokowi pemerintah selalu berupaya menjaga keseimbangan agar harga pada posisi normal petani sebagai produsen senang karena hasil kerjanya dihargai secara layak</td>\n",
       "      <td>-1</td>\n",
       "      <td>0</td>\n",
       "    </tr>\n",
       "    <tr>\n",
       "      <th>14</th>\n",
       "      <td>terlalu berat nge bahas ekonomi dgn angka cukup bahas mobil lejen aj</td>\n",
       "      <td>5</td>\n",
       "      <td>2</td>\n",
       "    </tr>\n",
       "  </tbody>\n",
       "</table>\n",
       "</div>"
      ],
      "text/plain": [
       "                                                                                                                                                                                                                                                        tweet  \\\n",
       "0                                                                                                                                                 kata prabowo indonesia tidak dihargai bangsa asing berita ini pasti hoax buatan penguasa ya kan rockygerung   \n",
       "1                                                                                                                                                                                          batuan langka tasbih jokowi hadiah dari habib luthfi seharga mercy   \n",
       "2                                                                                                                                                                                                                di era jokowi ekonomi indonesia semakin baik   \n",
       "3                                                                                                                                             bagi sumatera selatan asian games berdampak pd ekonomi langsung diprediksi mencapai indonesia maju jokowi hebat   \n",
       "4             negara kita ngutang buat bngun infrastruktur yang udah dipake masyarakat terus masyarakatnya ngeluh karena negara ngutang setiap negara itu pasti ngutang utang bisa dibayar kalo negara dapet penghasilan penghasilan negara itu ya dari pajak   \n",
       "5   yg bisikin pak jokowi cm mikirin perputaran duit di golongan tertentu e sports hanya sebagian kecil dr sekian besar penentu pertumbuhan perekonomian indonesia bukan hal fundamental betul yg dikatakan prabowo walau dgn bhs yg sederhana tp mrpkan a...   \n",
       "6                                                                                                                                                                                                           masa tenang msih ngoceh aja ttp jokowi harga mati   \n",
       "7                                                                                                                                                                                                 multilateral kita doakan di tps sambil dengarkan suara hati   \n",
       "8   iya bener aa kita mantap kan pilihan ke pemimpin yg bs memberi solusi jokowi bukan yg menyalahkan pemimpin sebelumnya sbyudhoyono dismash sm mas bowo percuma koalisi klau mengantam tmn koalisi yg plg penting pilih pemimpin yg rajin ibadah wajib b...   \n",
       "9                                                                                                                                                                                             prabowo sandi sepakat tak ambil gaji karena negara sedang susah   \n",
       "10                                                                                                                                                                                                                                         nah ini dia coblos   \n",
       "11                                                     calon presiden jokowi menjelaskan program kartu pra kerja akan memberikan insentif dalam kurun waktu tertentu bukan berarti memberikan gaji secara cuma cuma bagi masyarakat yang belum berpenghasilan   \n",
       "12                                                                                                                               gak nginti lu to yunartowijaya dan si at abdillahtoha juga gak ngacaaa gak usah ngajarin sandi soal ekonomi dibanding jokowi   \n",
       "13                                                                                    menurut jokowi pemerintah selalu berupaya menjaga keseimbangan agar harga pada posisi normal petani sebagai produsen senang karena hasil kerjanya dihargai secara layak   \n",
       "14                                                                                                                                                                                       terlalu berat nge bahas ekonomi dgn angka cukup bahas mobil lejen aj   \n",
       "\n",
       "    polarity_score  sentimen  \n",
       "0                0         1  \n",
       "1               -3         0  \n",
       "2                2         2  \n",
       "3                3         2  \n",
       "4              -13         0  \n",
       "5              -20         0  \n",
       "6                7         2  \n",
       "7                1         2  \n",
       "8                1         2  \n",
       "9               -3         0  \n",
       "10              -7         0  \n",
       "11               1         2  \n",
       "12              -6         0  \n",
       "13              -1         0  \n",
       "14               5         2  "
      ]
     },
     "execution_count": 252,
     "metadata": {},
     "output_type": "execute_result"
    }
   ],
   "source": [
    "pd.set_option('display.max_colwidth', 250)\n",
    "df_polar.iloc[0:15]"
   ]
  },
  {
   "cell_type": "markdown",
   "metadata": {},
   "source": [
    "### Remove Stop words"
   ]
  },
  {
   "cell_type": "code",
   "execution_count": 253,
   "metadata": {},
   "outputs": [
    {
     "name": "stderr",
     "output_type": "stream",
     "text": [
      "[nltk_data] Downloading package stopwords to\n",
      "[nltk_data]     /Users/shabiras/nltk_data...\n",
      "[nltk_data]   Package stopwords is already up-to-date!\n",
      "[nltk_data] Downloading package punkt to /Users/shabiras/nltk_data...\n",
      "[nltk_data]   Package punkt is already up-to-date!\n"
     ]
    }
   ],
   "source": [
    "import nltk\n",
    "from nltk.corpus import stopwords\n",
    "import requests\n",
    "import random\n",
    "\n",
    "nltk.download('stopwords')\n",
    "nltk.download('punkt')\n",
    "\n",
    "# URLs for stopwords\n",
    "STOPWORDS_URLS = [\n",
    "    \"https://raw.githubusercontent.com/ramaprakoso/analisis-sentimen/master/kamus/stopword.txt\",\n",
    "    \"https://raw.githubusercontent.com/yasirutomo/python-sentianalysis-id/master/data/feature_list/stopwordsID.txt\",\n",
    "    \"https://raw.githubusercontent.com/onlyphantom/elangdev/master/elang/word2vec/utils/stopwords-list/fpmipa-stopwords.txt\",\n",
    "    \"https://raw.githubusercontent.com/onlyphantom/elangdev/master/elang/word2vec/utils/stopwords-list/sastrawi-stopwords.txt\",\n",
    "    \"https://raw.githubusercontent.com/onlyphantom/elangdev/master/elang/word2vec/utils/stopwords-list/aliakbars-bilp.txt\",\n",
    "    \"https://raw.githubusercontent.com/onlyphantom/elangdev/master/elang/word2vec/utils/stopwords-list/pebbie-pebahasa.txt\",\n",
    "    \"https://raw.githubusercontent.com/onlyphantom/elangdev/master/elang/word2vec/utils/stopwords-id.txt\"\n",
    "]\n",
    "\n",
    "# Custom stopwords\n",
    "CUSTOM_STOPWORDS = ['yang', 'untuk', 'pada', 'ke', 'dari', 'dan', 'dengan', 'oleh', 'bagi',\n",
    "                    'serta', 'atau', 'tapi', 'karena', 'jadi', 'walaupun', 'meskipun', 'sehingga',\n",
    "                    'agar', 'supaya', 'guna', 'demi', 'sebab', 'akibat', 'melainkan', 'sebaliknya',\n",
    "                    'selain', 'kecuali', 'apalagi', 'asal', 'bila', 'kalau', 'jika', 'sementara', 'sewaktu',\n",
    "                    'setelah', 'sebelum', 'lalu', 'kemudian', 'kini', 'sekarang', 'nanti', 'kembali', 'lagi',\n",
    "                    'hanya', 'saja', 'pun', 'juga', 'malah', 'memang', 'tentu', 'sungguh', 'amat', 'sekali', 'apatah',\n",
    "                    'mengapa', 'ialah', 'yaitu', 'yakni', 'begini', 'begitu', 'apakah', 'mengapa', 'siapa', 'mengapa', 'bagaimana',\n",
    "                    'kapan', 'dimana', 'berapa', 'kemana', 'daripada', 'yg', 'itu.', 'ya', 'ga', 'dari', 'ke', 'pak', 'kan', 'nya', 'dgn',\n",
    "                    'pas', 'tll', 'trsa', 'bang', 'smpai', 'ama', 'bikin', 'nih', 'pdahl', 'bangettt', 'btw', 'plg', 'ntar', 'skrg', 'ttg',\n",
    "                    'tu', 'emg', 'ane', 'mnrt', 'tjoy', 'abis', 'bs', 'trjadi', 'kalo', 'guys', 'ma', 'aja', 'bgt', 'gua', 'sbnrnya', 'dr', 'sm', 'banget',\n",
    "                    'sy', 'haha', 'aj', 'hrs', 'sllu', 'lanjut', 'utk', 'pdhl', 'ajaa', 'tp', 'kta', 'mas', 'tnx', 'udh', 'gwa', 'lol', 'bgtu', 'hemm', 'sih', 'bnyak', 'akan', 'si']"
   ]
  },
  {
   "cell_type": "code",
   "execution_count": 254,
   "metadata": {},
   "outputs": [],
   "source": [
    "def shuffle_stopwords(stopwords):\n",
    "    random.shuffle(stopwords)\n",
    "    return stopwords\n",
    "\n",
    "def get_nltk_stopwords():\n",
    "    return set(stopwords.words('indonesian'))\n",
    "\n",
    "def fetch_stopwords(url):\n",
    "    response = requests.get(url)\n",
    "    return set(response.text.split('\\n'))\n",
    "\n",
    "def get_custom_stopwords(custom_stopwords):\n",
    "    return set(custom_stopwords)\n",
    "\n",
    "def construct_stopwords(urls, custom_stopwords):\n",
    "    stop_words = get_nltk_stopwords()\n",
    "    for url in urls:\n",
    "        stop_words.update(fetch_stopwords(url))\n",
    "    stop_words.update(get_custom_stopwords(custom_stopwords))\n",
    "    return stop_words"
   ]
  },
  {
   "cell_type": "code",
   "execution_count": 255,
   "metadata": {},
   "outputs": [
    {
     "name": "stdout",
     "output_type": "stream",
     "text": [
      "Stopwords: ['sepihak', 'siapa', 'terkait', 'olehnya', 'meski', 'terutama', 'kah', 'betulkah', 'pihaknya', 'terlalu', 'memperbuat', 'sejauh', 'bagi', 'melainkan', 'semata']\n"
     ]
    }
   ],
   "source": [
    "# Shuffle custom stopwords\n",
    "shuffled_custom_stopwords = shuffle_stopwords(CUSTOM_STOPWORDS)\n",
    "\n",
    "# Construct final stopwords set\n",
    "stop_words = construct_stopwords(STOPWORDS_URLS, shuffled_custom_stopwords)\n",
    "\n",
    "# Print to verify\n",
    "print(f'Stopwords: {list(stop_words)[:15]}')"
   ]
  },
  {
   "cell_type": "code",
   "execution_count": 256,
   "metadata": {},
   "outputs": [],
   "source": [
    "# remove stopwords\n",
    "from nltk import word_tokenize\n",
    "\n",
    "def remove_stopword(text, stop_words=stop_words):\n",
    "    word_tokens = word_tokenize(text)\n",
    "    filtered_sentence = [w for w in word_tokens if not w in stop_words]\n",
    "    return ' '.join(filtered_sentence)"
   ]
  },
  {
   "cell_type": "code",
   "execution_count": 257,
   "metadata": {},
   "outputs": [],
   "source": [
    "df_polar['tweet'] = df_polar['tweet'].apply(remove_stopword)"
   ]
  },
  {
   "cell_type": "code",
   "execution_count": 258,
   "metadata": {},
   "outputs": [
    {
     "data": {
      "text/html": [
       "<div>\n",
       "<style scoped>\n",
       "    .dataframe tbody tr th:only-of-type {\n",
       "        vertical-align: middle;\n",
       "    }\n",
       "\n",
       "    .dataframe tbody tr th {\n",
       "        vertical-align: top;\n",
       "    }\n",
       "\n",
       "    .dataframe thead th {\n",
       "        text-align: right;\n",
       "    }\n",
       "</style>\n",
       "<table border=\"1\" class=\"dataframe\">\n",
       "  <thead>\n",
       "    <tr style=\"text-align: right;\">\n",
       "      <th></th>\n",
       "      <th>tweet</th>\n",
       "      <th>polarity_score</th>\n",
       "      <th>sentimen</th>\n",
       "    </tr>\n",
       "  </thead>\n",
       "  <tbody>\n",
       "    <tr>\n",
       "      <th>0</th>\n",
       "      <td>prabowo indonesia dihargai bangsa asing berita hoax buatan penguasa rockygerung</td>\n",
       "      <td>0</td>\n",
       "      <td>1</td>\n",
       "    </tr>\n",
       "    <tr>\n",
       "      <th>1</th>\n",
       "      <td>batuan langka tasbih jokowi hadiah habib luthfi seharga mercy</td>\n",
       "      <td>-3</td>\n",
       "      <td>0</td>\n",
       "    </tr>\n",
       "    <tr>\n",
       "      <th>2</th>\n",
       "      <td>era jokowi ekonomi indonesia</td>\n",
       "      <td>2</td>\n",
       "      <td>2</td>\n",
       "    </tr>\n",
       "    <tr>\n",
       "      <th>3</th>\n",
       "      <td>sumatera asian games berdampak pd ekonomi diprediksi indonesia maju jokowi hebat</td>\n",
       "      <td>3</td>\n",
       "      <td>2</td>\n",
       "    </tr>\n",
       "    <tr>\n",
       "      <th>4</th>\n",
       "      <td>negara ngutang bngun infrastruktur dipake masyarakat masyarakatnya ngeluh negara ngutang negara ngutang utang dibayar negara dapet penghasilan penghasilan negara pajak</td>\n",
       "      <td>-13</td>\n",
       "      <td>0</td>\n",
       "    </tr>\n",
       "    <tr>\n",
       "      <th>5</th>\n",
       "      <td>bisikin jokowi cm mikirin perputaran duit golongan e sports penentu pertumbuhan perekonomian indonesia fundamental prabowo bhs sederhana mrpkan aspek fundamental ekonomi</td>\n",
       "      <td>-20</td>\n",
       "      <td>0</td>\n",
       "    </tr>\n",
       "    <tr>\n",
       "      <th>6</th>\n",
       "      <td>tenang msih ngoceh ttp jokowi harga mati</td>\n",
       "      <td>7</td>\n",
       "      <td>2</td>\n",
       "    </tr>\n",
       "    <tr>\n",
       "      <th>7</th>\n",
       "      <td>multilateral doakan tps dengarkan suara hati</td>\n",
       "      <td>1</td>\n",
       "      <td>2</td>\n",
       "    </tr>\n",
       "    <tr>\n",
       "      <th>8</th>\n",
       "      <td>bener aa mantap pilihan pemimpin solusi jokowi menyalahkan pemimpin sbyudhoyono dismash bowo koalisi klau mengantam tmn koalisi pilih pemimpin rajin ibadah wajib ngaji jumatan</td>\n",
       "      <td>1</td>\n",
       "      <td>2</td>\n",
       "    </tr>\n",
       "    <tr>\n",
       "      <th>9</th>\n",
       "      <td>prabowo sandi sepakat ambil gaji negara susah</td>\n",
       "      <td>-3</td>\n",
       "      <td>0</td>\n",
       "    </tr>\n",
       "    <tr>\n",
       "      <th>10</th>\n",
       "      <td>coblos</td>\n",
       "      <td>-7</td>\n",
       "      <td>0</td>\n",
       "    </tr>\n",
       "    <tr>\n",
       "      <th>11</th>\n",
       "      <td>calon presiden jokowi kartu pra insentif kurun gaji masyarakat berpenghasilan</td>\n",
       "      <td>1</td>\n",
       "      <td>2</td>\n",
       "    </tr>\n",
       "    <tr>\n",
       "      <th>12</th>\n",
       "      <td>gak nginti yunartowijaya at abdillahtoha gak ngacaaa gak ngajarin sandi ekonomi dibanding jokowi</td>\n",
       "      <td>-6</td>\n",
       "      <td>0</td>\n",
       "    </tr>\n",
       "    <tr>\n",
       "      <th>13</th>\n",
       "      <td>jokowi pemerintah berupaya menjaga keseimbangan harga normal petani produsen senang kerjanya dihargai layak</td>\n",
       "      <td>-1</td>\n",
       "      <td>0</td>\n",
       "    </tr>\n",
       "    <tr>\n",
       "      <th>14</th>\n",
       "      <td>nge bahas ekonomi angka bahas mobil lejen</td>\n",
       "      <td>5</td>\n",
       "      <td>2</td>\n",
       "    </tr>\n",
       "  </tbody>\n",
       "</table>\n",
       "</div>"
      ],
      "text/plain": [
       "                                                                                                                                                                              tweet  \\\n",
       "0                                                                                                   prabowo indonesia dihargai bangsa asing berita hoax buatan penguasa rockygerung   \n",
       "1                                                                                                                     batuan langka tasbih jokowi hadiah habib luthfi seharga mercy   \n",
       "2                                                                                                                                                      era jokowi ekonomi indonesia   \n",
       "3                                                                                                  sumatera asian games berdampak pd ekonomi diprediksi indonesia maju jokowi hebat   \n",
       "4           negara ngutang bngun infrastruktur dipake masyarakat masyarakatnya ngeluh negara ngutang negara ngutang utang dibayar negara dapet penghasilan penghasilan negara pajak   \n",
       "5         bisikin jokowi cm mikirin perputaran duit golongan e sports penentu pertumbuhan perekonomian indonesia fundamental prabowo bhs sederhana mrpkan aspek fundamental ekonomi   \n",
       "6                                                                                                                                          tenang msih ngoceh ttp jokowi harga mati   \n",
       "7                                                                                                                                      multilateral doakan tps dengarkan suara hati   \n",
       "8   bener aa mantap pilihan pemimpin solusi jokowi menyalahkan pemimpin sbyudhoyono dismash bowo koalisi klau mengantam tmn koalisi pilih pemimpin rajin ibadah wajib ngaji jumatan   \n",
       "9                                                                                                                                     prabowo sandi sepakat ambil gaji negara susah   \n",
       "10                                                                                                                                                                           coblos   \n",
       "11                                                                                                    calon presiden jokowi kartu pra insentif kurun gaji masyarakat berpenghasilan   \n",
       "12                                                                                 gak nginti yunartowijaya at abdillahtoha gak ngacaaa gak ngajarin sandi ekonomi dibanding jokowi   \n",
       "13                                                                      jokowi pemerintah berupaya menjaga keseimbangan harga normal petani produsen senang kerjanya dihargai layak   \n",
       "14                                                                                                                                        nge bahas ekonomi angka bahas mobil lejen   \n",
       "\n",
       "    polarity_score  sentimen  \n",
       "0                0         1  \n",
       "1               -3         0  \n",
       "2                2         2  \n",
       "3                3         2  \n",
       "4              -13         0  \n",
       "5              -20         0  \n",
       "6                7         2  \n",
       "7                1         2  \n",
       "8                1         2  \n",
       "9               -3         0  \n",
       "10              -7         0  \n",
       "11               1         2  \n",
       "12              -6         0  \n",
       "13              -1         0  \n",
       "14               5         2  "
      ]
     },
     "execution_count": 258,
     "metadata": {},
     "output_type": "execute_result"
    }
   ],
   "source": [
    "df_polar.iloc[0:15]"
   ]
  },
  {
   "cell_type": "markdown",
   "metadata": {},
   "source": [
    "### Stemming and Lemmatization"
   ]
  },
  {
   "cell_type": "code",
   "execution_count": 259,
   "metadata": {},
   "outputs": [],
   "source": [
    "# stemming and lemmatization\n",
    "from Sastrawi.Stemmer.StemmerFactory import StemmerFactory\n",
    "\n",
    "def stemming_and_lemmatization(text):\n",
    "    factory = StemmerFactory()\n",
    "    stemmer = factory.create_stemmer()\n",
    "    return stemmer.stem(text)"
   ]
  },
  {
   "cell_type": "code",
   "execution_count": 260,
   "metadata": {},
   "outputs": [],
   "source": [
    "df_polar['tweet'] = df_polar['tweet'].apply(stemming_and_lemmatization)"
   ]
  },
  {
   "cell_type": "code",
   "execution_count": 261,
   "metadata": {},
   "outputs": [
    {
     "data": {
      "text/html": [
       "<div>\n",
       "<style scoped>\n",
       "    .dataframe tbody tr th:only-of-type {\n",
       "        vertical-align: middle;\n",
       "    }\n",
       "\n",
       "    .dataframe tbody tr th {\n",
       "        vertical-align: top;\n",
       "    }\n",
       "\n",
       "    .dataframe thead th {\n",
       "        text-align: right;\n",
       "    }\n",
       "</style>\n",
       "<table border=\"1\" class=\"dataframe\">\n",
       "  <thead>\n",
       "    <tr style=\"text-align: right;\">\n",
       "      <th></th>\n",
       "      <th>tweet</th>\n",
       "      <th>polarity_score</th>\n",
       "      <th>sentimen</th>\n",
       "    </tr>\n",
       "  </thead>\n",
       "  <tbody>\n",
       "    <tr>\n",
       "      <th>0</th>\n",
       "      <td>prabowo indonesia harga bangsa asing berita hoax buat kuasa rockygerung</td>\n",
       "      <td>0</td>\n",
       "      <td>1</td>\n",
       "    </tr>\n",
       "    <tr>\n",
       "      <th>1</th>\n",
       "      <td>batu langka tasbih jokowi hadiah habib luthfi harga mercy</td>\n",
       "      <td>-3</td>\n",
       "      <td>0</td>\n",
       "    </tr>\n",
       "    <tr>\n",
       "      <th>2</th>\n",
       "      <td>era jokowi ekonomi indonesia</td>\n",
       "      <td>2</td>\n",
       "      <td>2</td>\n",
       "    </tr>\n",
       "    <tr>\n",
       "      <th>3</th>\n",
       "      <td>sumatera asi games dampak pd ekonomi prediksi indonesia maju jokowi hebat</td>\n",
       "      <td>3</td>\n",
       "      <td>2</td>\n",
       "    </tr>\n",
       "    <tr>\n",
       "      <th>4</th>\n",
       "      <td>negara ngutang bngun infrastruktur dipake masyarakat masyarakat ngeluh negara ngutang negara ngutang utang bayar negara dapet hasil hasil negara pajak</td>\n",
       "      <td>-13</td>\n",
       "      <td>0</td>\n",
       "    </tr>\n",
       "    <tr>\n",
       "      <th>5</th>\n",
       "      <td>bisikin jokowi cm mikirin putar duit golong e sports tentu tumbuh ekonomi indonesia fundamental prabowo bhs sederhana mrpkan aspek fundamental ekonomi</td>\n",
       "      <td>-20</td>\n",
       "      <td>0</td>\n",
       "    </tr>\n",
       "    <tr>\n",
       "      <th>6</th>\n",
       "      <td>tenang msih ngoceh ttp jokowi harga mati</td>\n",
       "      <td>7</td>\n",
       "      <td>2</td>\n",
       "    </tr>\n",
       "    <tr>\n",
       "      <th>7</th>\n",
       "      <td>multilateral doa tps dengar suara hati</td>\n",
       "      <td>1</td>\n",
       "      <td>2</td>\n",
       "    </tr>\n",
       "    <tr>\n",
       "      <th>8</th>\n",
       "      <td>bener aa mantap pilih pimpin solusi jokowi salah pimpin sbyudhoyono dismash bowo koalisi klau mengantam tmn koalisi pilih pimpin rajin ibadah wajib ngaji jumat</td>\n",
       "      <td>1</td>\n",
       "      <td>2</td>\n",
       "    </tr>\n",
       "    <tr>\n",
       "      <th>9</th>\n",
       "      <td>prabowo sandi sepakat ambil gaji negara susah</td>\n",
       "      <td>-3</td>\n",
       "      <td>0</td>\n",
       "    </tr>\n",
       "    <tr>\n",
       "      <th>10</th>\n",
       "      <td>coblos</td>\n",
       "      <td>-7</td>\n",
       "      <td>0</td>\n",
       "    </tr>\n",
       "    <tr>\n",
       "      <th>11</th>\n",
       "      <td>calon presiden jokowi kartu pra insentif kurun gaji masyarakat hasil</td>\n",
       "      <td>1</td>\n",
       "      <td>2</td>\n",
       "    </tr>\n",
       "    <tr>\n",
       "      <th>12</th>\n",
       "      <td>gak nginti yunartowijaya at abdillahtoha gak ngacaaa gak ngajarin sandi ekonomi banding jokowi</td>\n",
       "      <td>-6</td>\n",
       "      <td>0</td>\n",
       "    </tr>\n",
       "    <tr>\n",
       "      <th>13</th>\n",
       "      <td>jokowi perintah upaya jaga imbang harga normal tani produsen senang kerja harga layak</td>\n",
       "      <td>-1</td>\n",
       "      <td>0</td>\n",
       "    </tr>\n",
       "    <tr>\n",
       "      <th>14</th>\n",
       "      <td>nge bahas ekonomi angka bahas mobil lejen</td>\n",
       "      <td>5</td>\n",
       "      <td>2</td>\n",
       "    </tr>\n",
       "  </tbody>\n",
       "</table>\n",
       "</div>"
      ],
      "text/plain": [
       "                                                                                                                                                              tweet  \\\n",
       "0                                                                                           prabowo indonesia harga bangsa asing berita hoax buat kuasa rockygerung   \n",
       "1                                                                                                         batu langka tasbih jokowi hadiah habib luthfi harga mercy   \n",
       "2                                                                                                                                      era jokowi ekonomi indonesia   \n",
       "3                                                                                         sumatera asi games dampak pd ekonomi prediksi indonesia maju jokowi hebat   \n",
       "4            negara ngutang bngun infrastruktur dipake masyarakat masyarakat ngeluh negara ngutang negara ngutang utang bayar negara dapet hasil hasil negara pajak   \n",
       "5            bisikin jokowi cm mikirin putar duit golong e sports tentu tumbuh ekonomi indonesia fundamental prabowo bhs sederhana mrpkan aspek fundamental ekonomi   \n",
       "6                                                                                                                          tenang msih ngoceh ttp jokowi harga mati   \n",
       "7                                                                                                                            multilateral doa tps dengar suara hati   \n",
       "8   bener aa mantap pilih pimpin solusi jokowi salah pimpin sbyudhoyono dismash bowo koalisi klau mengantam tmn koalisi pilih pimpin rajin ibadah wajib ngaji jumat   \n",
       "9                                                                                                                     prabowo sandi sepakat ambil gaji negara susah   \n",
       "10                                                                                                                                                           coblos   \n",
       "11                                                                                             calon presiden jokowi kartu pra insentif kurun gaji masyarakat hasil   \n",
       "12                                                                   gak nginti yunartowijaya at abdillahtoha gak ngacaaa gak ngajarin sandi ekonomi banding jokowi   \n",
       "13                                                                            jokowi perintah upaya jaga imbang harga normal tani produsen senang kerja harga layak   \n",
       "14                                                                                                                        nge bahas ekonomi angka bahas mobil lejen   \n",
       "\n",
       "    polarity_score  sentimen  \n",
       "0                0         1  \n",
       "1               -3         0  \n",
       "2                2         2  \n",
       "3                3         2  \n",
       "4              -13         0  \n",
       "5              -20         0  \n",
       "6                7         2  \n",
       "7                1         2  \n",
       "8                1         2  \n",
       "9               -3         0  \n",
       "10              -7         0  \n",
       "11               1         2  \n",
       "12              -6         0  \n",
       "13              -1         0  \n",
       "14               5         2  "
      ]
     },
     "execution_count": 261,
     "metadata": {},
     "output_type": "execute_result"
    }
   ],
   "source": [
    "df_polar.iloc[0:15]"
   ]
  },
  {
   "cell_type": "code",
   "execution_count": 262,
   "metadata": {},
   "outputs": [],
   "source": [
    "# tokenization\n",
    "def tokenize(text):\n",
    "    return word_tokenize(text)"
   ]
  },
  {
   "cell_type": "code",
   "execution_count": 263,
   "metadata": {},
   "outputs": [],
   "source": [
    "df_polar['tweet'] = df_polar['tweet'].apply(tokenize)"
   ]
  },
  {
   "cell_type": "code",
   "execution_count": 264,
   "metadata": {},
   "outputs": [
    {
     "data": {
      "text/html": [
       "<div>\n",
       "<style scoped>\n",
       "    .dataframe tbody tr th:only-of-type {\n",
       "        vertical-align: middle;\n",
       "    }\n",
       "\n",
       "    .dataframe tbody tr th {\n",
       "        vertical-align: top;\n",
       "    }\n",
       "\n",
       "    .dataframe thead th {\n",
       "        text-align: right;\n",
       "    }\n",
       "</style>\n",
       "<table border=\"1\" class=\"dataframe\">\n",
       "  <thead>\n",
       "    <tr style=\"text-align: right;\">\n",
       "      <th></th>\n",
       "      <th>tweet</th>\n",
       "      <th>polarity_score</th>\n",
       "      <th>sentimen</th>\n",
       "    </tr>\n",
       "  </thead>\n",
       "  <tbody>\n",
       "    <tr>\n",
       "      <th>0</th>\n",
       "      <td>[prabowo, indonesia, harga, bangsa, asing, berita, hoax, buat, kuasa, rockygerung]</td>\n",
       "      <td>0</td>\n",
       "      <td>1</td>\n",
       "    </tr>\n",
       "    <tr>\n",
       "      <th>1</th>\n",
       "      <td>[batu, langka, tasbih, jokowi, hadiah, habib, luthfi, harga, mercy]</td>\n",
       "      <td>-3</td>\n",
       "      <td>0</td>\n",
       "    </tr>\n",
       "    <tr>\n",
       "      <th>2</th>\n",
       "      <td>[era, jokowi, ekonomi, indonesia]</td>\n",
       "      <td>2</td>\n",
       "      <td>2</td>\n",
       "    </tr>\n",
       "    <tr>\n",
       "      <th>3</th>\n",
       "      <td>[sumatera, asi, games, dampak, pd, ekonomi, prediksi, indonesia, maju, jokowi, hebat]</td>\n",
       "      <td>3</td>\n",
       "      <td>2</td>\n",
       "    </tr>\n",
       "    <tr>\n",
       "      <th>4</th>\n",
       "      <td>[negara, ngutang, bngun, infrastruktur, dipake, masyarakat, masyarakat, ngeluh, negara, ngutang, negara, ngutang, utang, bayar, negara, dapet, hasil, hasil, negara, pajak]</td>\n",
       "      <td>-13</td>\n",
       "      <td>0</td>\n",
       "    </tr>\n",
       "    <tr>\n",
       "      <th>5</th>\n",
       "      <td>[bisikin, jokowi, cm, mikirin, putar, duit, golong, e, sports, tentu, tumbuh, ekonomi, indonesia, fundamental, prabowo, bhs, sederhana, mrpkan, aspek, fundamental, ekonomi]</td>\n",
       "      <td>-20</td>\n",
       "      <td>0</td>\n",
       "    </tr>\n",
       "    <tr>\n",
       "      <th>6</th>\n",
       "      <td>[tenang, msih, ngoceh, ttp, jokowi, harga, mati]</td>\n",
       "      <td>7</td>\n",
       "      <td>2</td>\n",
       "    </tr>\n",
       "    <tr>\n",
       "      <th>7</th>\n",
       "      <td>[multilateral, doa, tps, dengar, suara, hati]</td>\n",
       "      <td>1</td>\n",
       "      <td>2</td>\n",
       "    </tr>\n",
       "    <tr>\n",
       "      <th>8</th>\n",
       "      <td>[bener, aa, mantap, pilih, pimpin, solusi, jokowi, salah, pimpin, sbyudhoyono, dismash, bowo, koalisi, klau, mengantam, tmn, koalisi, pilih, pimpin, rajin, ibadah, wajib, ngaji, jumat]</td>\n",
       "      <td>1</td>\n",
       "      <td>2</td>\n",
       "    </tr>\n",
       "    <tr>\n",
       "      <th>9</th>\n",
       "      <td>[prabowo, sandi, sepakat, ambil, gaji, negara, susah]</td>\n",
       "      <td>-3</td>\n",
       "      <td>0</td>\n",
       "    </tr>\n",
       "    <tr>\n",
       "      <th>10</th>\n",
       "      <td>[coblos]</td>\n",
       "      <td>-7</td>\n",
       "      <td>0</td>\n",
       "    </tr>\n",
       "    <tr>\n",
       "      <th>11</th>\n",
       "      <td>[calon, presiden, jokowi, kartu, pra, insentif, kurun, gaji, masyarakat, hasil]</td>\n",
       "      <td>1</td>\n",
       "      <td>2</td>\n",
       "    </tr>\n",
       "    <tr>\n",
       "      <th>12</th>\n",
       "      <td>[gak, nginti, yunartowijaya, at, abdillahtoha, gak, ngacaaa, gak, ngajarin, sandi, ekonomi, banding, jokowi]</td>\n",
       "      <td>-6</td>\n",
       "      <td>0</td>\n",
       "    </tr>\n",
       "    <tr>\n",
       "      <th>13</th>\n",
       "      <td>[jokowi, perintah, upaya, jaga, imbang, harga, normal, tani, produsen, senang, kerja, harga, layak]</td>\n",
       "      <td>-1</td>\n",
       "      <td>0</td>\n",
       "    </tr>\n",
       "    <tr>\n",
       "      <th>14</th>\n",
       "      <td>[nge, bahas, ekonomi, angka, bahas, mobil, lejen]</td>\n",
       "      <td>5</td>\n",
       "      <td>2</td>\n",
       "    </tr>\n",
       "  </tbody>\n",
       "</table>\n",
       "</div>"
      ],
      "text/plain": [
       "                                                                                                                                                                                       tweet  \\\n",
       "0                                                                                                         [prabowo, indonesia, harga, bangsa, asing, berita, hoax, buat, kuasa, rockygerung]   \n",
       "1                                                                                                                        [batu, langka, tasbih, jokowi, hadiah, habib, luthfi, harga, mercy]   \n",
       "2                                                                                                                                                          [era, jokowi, ekonomi, indonesia]   \n",
       "3                                                                                                      [sumatera, asi, games, dampak, pd, ekonomi, prediksi, indonesia, maju, jokowi, hebat]   \n",
       "4                [negara, ngutang, bngun, infrastruktur, dipake, masyarakat, masyarakat, ngeluh, negara, ngutang, negara, ngutang, utang, bayar, negara, dapet, hasil, hasil, negara, pajak]   \n",
       "5               [bisikin, jokowi, cm, mikirin, putar, duit, golong, e, sports, tentu, tumbuh, ekonomi, indonesia, fundamental, prabowo, bhs, sederhana, mrpkan, aspek, fundamental, ekonomi]   \n",
       "6                                                                                                                                           [tenang, msih, ngoceh, ttp, jokowi, harga, mati]   \n",
       "7                                                                                                                                              [multilateral, doa, tps, dengar, suara, hati]   \n",
       "8   [bener, aa, mantap, pilih, pimpin, solusi, jokowi, salah, pimpin, sbyudhoyono, dismash, bowo, koalisi, klau, mengantam, tmn, koalisi, pilih, pimpin, rajin, ibadah, wajib, ngaji, jumat]   \n",
       "9                                                                                                                                      [prabowo, sandi, sepakat, ambil, gaji, negara, susah]   \n",
       "10                                                                                                                                                                                  [coblos]   \n",
       "11                                                                                                           [calon, presiden, jokowi, kartu, pra, insentif, kurun, gaji, masyarakat, hasil]   \n",
       "12                                                                              [gak, nginti, yunartowijaya, at, abdillahtoha, gak, ngacaaa, gak, ngajarin, sandi, ekonomi, banding, jokowi]   \n",
       "13                                                                                       [jokowi, perintah, upaya, jaga, imbang, harga, normal, tani, produsen, senang, kerja, harga, layak]   \n",
       "14                                                                                                                                         [nge, bahas, ekonomi, angka, bahas, mobil, lejen]   \n",
       "\n",
       "    polarity_score  sentimen  \n",
       "0                0         1  \n",
       "1               -3         0  \n",
       "2                2         2  \n",
       "3                3         2  \n",
       "4              -13         0  \n",
       "5              -20         0  \n",
       "6                7         2  \n",
       "7                1         2  \n",
       "8                1         2  \n",
       "9               -3         0  \n",
       "10              -7         0  \n",
       "11               1         2  \n",
       "12              -6         0  \n",
       "13              -1         0  \n",
       "14               5         2  "
      ]
     },
     "execution_count": 264,
     "metadata": {},
     "output_type": "execute_result"
    }
   ],
   "source": [
    "df_polar.iloc[0:15]"
   ]
  },
  {
   "cell_type": "code",
   "execution_count": 275,
   "metadata": {},
   "outputs": [],
   "source": [
    "from tensorflow.keras.preprocessing.text import Tokenizer\n",
    "from keras.preprocessing.sequence import pad_sequences\n",
    "\n",
    "MAX_FEATURES = 1000\n",
    "MAX_LEN=50\n",
    "\n",
    "# tokenizer = Tokenizer(num_words=MAX_FEATURES, oov_token='<OOV>')\n",
    "tokenizer = Tokenizer(num_words=MAX_FEATURES)\n",
    "tokenizer.fit_on_texts(df_polar['tweet'])\n",
    "sequences = tokenizer.texts_to_sequences(df_polar['tweet'])\n",
    "\n",
    "X = pad_sequences(sequences, padding='post', maxlen=MAX_LEN)"
   ]
  },
  {
   "cell_type": "code",
   "execution_count": 276,
   "metadata": {},
   "outputs": [
    {
     "data": {
      "text/plain": [
       "(1815, 50)"
      ]
     },
     "execution_count": 276,
     "metadata": {},
     "output_type": "execute_result"
    }
   ],
   "source": [
    "X.shape"
   ]
  },
  {
   "cell_type": "code",
   "execution_count": 277,
   "metadata": {},
   "outputs": [],
   "source": [
    "y = df_polar['sentimen']"
   ]
  },
  {
   "cell_type": "code",
   "execution_count": 278,
   "metadata": {},
   "outputs": [
    {
     "name": "stdout",
     "output_type": "stream",
     "text": [
      "(1233, 50) (1233, 3)\n",
      "(273, 50) (273, 3)\n"
     ]
    }
   ],
   "source": [
    "from sklearn.model_selection import train_test_split\n",
    "from tensorflow.keras.utils import to_categorical\n",
    "\n",
    "X_train, X_test, y_train, y_test = train_test_split(X, y, test_size = 0.15, random_state = 1)\n",
    "X_train, X_val, y_train, y_val = train_test_split(X_train, y_train, test_size=0.20, random_state=1)\n",
    "y_train = to_categorical(y_train, 3)\n",
    "y_test = to_categorical(y_test, 3)\n",
    "y_val = to_categorical(y_val, 3)\n",
    "print(X_train.shape, y_train.shape)\n",
    "print(X_test.shape, y_test.shape)"
   ]
  },
  {
   "cell_type": "code",
   "execution_count": 348,
   "metadata": {},
   "outputs": [
    {
     "name": "stdout",
     "output_type": "stream",
     "text": [
      "You must install pydot (`pip install pydot`) for `plot_model` to work.\n"
     ]
    }
   ],
   "source": [
    "from keras.optimizers import Adam, RMSprop, SGD\n",
    "from keras.layers import Embedding, Conv1D, MaxPooling1D, Bidirectional, LSTM, Dense, Dropout\n",
    "from keras.models import Sequential\n",
    "\n",
    "\n",
    "vocab_size = 5000\n",
    "embedding_size = 32\n",
    "epochs=100\n",
    "learning_rate = 0.05\n",
    "decay_rate = learning_rate / epochs\n",
    "momentum = 0.8\n",
    "\n",
    "sgd = SGD(learning_rate=learning_rate, momentum=momentum, decay=decay_rate, nesterov=False)\n",
    "# Build model\n",
    "model= Sequential()\n",
    "model.add(Embedding(vocab_size, embedding_size, input_length=MAX_LEN))\n",
    "model.add(Conv1D(filters=32, kernel_size=3, padding='same', activation='relu'))\n",
    "model.add(MaxPooling1D(pool_size=2))\n",
    "model.add(Bidirectional(LSTM(32)))\n",
    "model.add(Dropout(0.4))\n",
    "model.add(Dense(3, activation='softmax'))\n",
    "\n",
    "model.build()\n",
    "\n",
    "import tensorflow as tf\n",
    "tf.keras.utils.plot_model(model, show_shapes=True)"
   ]
  },
  {
   "cell_type": "code",
   "execution_count": 349,
   "metadata": {},
   "outputs": [],
   "source": [
    "import tensorflow.keras.backend as K\n",
    "\n",
    "def recall_m(y_true, y_pred):\n",
    "    true_positives = K.sum(K.round(K.clip(y_true * y_pred, 0, 1)))\n",
    "    possible_positives = K.sum(K.round(K.clip(y_true, 0, 1)))\n",
    "    recall = true_positives / (possible_positives + K.epsilon())\n",
    "    return recall\n",
    "\n",
    "def precision_m(y_true, y_pred):\n",
    "    true_positives = K.sum(K.round(K.clip(y_true * y_pred, 0, 1)))\n",
    "    predicted_positives = K.sum(K.round(K.clip(y_pred, 0, 1)))\n",
    "    precision = true_positives / (predicted_positives + K.epsilon())\n",
    "    return precision\n",
    "\n",
    "def f1_m(y_true, y_pred):\n",
    "    precision = precision_m(y_true, y_pred)\n",
    "    recall = recall_m(y_true, y_pred)\n",
    "    return 2*((precision*recall)/(precision+recall+K.epsilon()))"
   ]
  },
  {
   "cell_type": "code",
   "execution_count": 358,
   "metadata": {},
   "outputs": [
    {
     "name": "stdout",
     "output_type": "stream",
     "text": [
      "Epoch 1/100\n",
      "39/39 - 2s - 44ms/step - accuracy: 0.9968 - f1_m: 0.9968 - loss: 0.0050 - precision_m: 0.9968 - recall_m: 0.9968 - val_accuracy: 0.5696 - val_f1_m: 0.5778 - val_loss: 4.7492 - val_precision_m: 0.5778 - val_recall_m: 0.5778\n",
      "Epoch 2/100\n",
      "39/39 - 0s - 6ms/step - accuracy: 0.9968 - f1_m: 0.9972 - loss: 0.0055 - precision_m: 0.9976 - recall_m: 0.9968 - val_accuracy: 0.5696 - val_f1_m: 0.5778 - val_loss: 4.7578 - val_precision_m: 0.5778 - val_recall_m: 0.5778\n",
      "Epoch 3/100\n",
      "39/39 - 0s - 9ms/step - accuracy: 0.9984 - f1_m: 0.9984 - loss: 0.0046 - precision_m: 0.9984 - recall_m: 0.9984 - val_accuracy: 0.5663 - val_f1_m: 0.5747 - val_loss: 4.7593 - val_precision_m: 0.5747 - val_recall_m: 0.5747\n",
      "Epoch 4/100\n",
      "39/39 - 0s - 10ms/step - accuracy: 0.9959 - f1_m: 0.9960 - loss: 0.0068 - precision_m: 0.9960 - recall_m: 0.9960 - val_accuracy: 0.5663 - val_f1_m: 0.5747 - val_loss: 4.7475 - val_precision_m: 0.5747 - val_recall_m: 0.5747\n",
      "Epoch 5/100\n",
      "39/39 - 0s - 10ms/step - accuracy: 0.9984 - f1_m: 0.9984 - loss: 0.0039 - precision_m: 0.9984 - recall_m: 0.9984 - val_accuracy: 0.5663 - val_f1_m: 0.5747 - val_loss: 4.7385 - val_precision_m: 0.5747 - val_recall_m: 0.5747\n",
      "Epoch 6/100\n",
      "39/39 - 0s - 10ms/step - accuracy: 0.9992 - f1_m: 0.9992 - loss: 0.0043 - precision_m: 0.9992 - recall_m: 0.9992 - val_accuracy: 0.5663 - val_f1_m: 0.5757 - val_loss: 4.7283 - val_precision_m: 0.5768 - val_recall_m: 0.5747\n",
      "Epoch 7/100\n",
      "39/39 - 0s - 10ms/step - accuracy: 0.9968 - f1_m: 0.9968 - loss: 0.0052 - precision_m: 0.9968 - recall_m: 0.9968 - val_accuracy: 0.5728 - val_f1_m: 0.5829 - val_loss: 4.7251 - val_precision_m: 0.5849 - val_recall_m: 0.5810\n",
      "Epoch 8/100\n",
      "39/39 - 0s - 10ms/step - accuracy: 0.9959 - f1_m: 0.9953 - loss: 0.0060 - precision_m: 0.9953 - recall_m: 0.9953 - val_accuracy: 0.5728 - val_f1_m: 0.5810 - val_loss: 4.7214 - val_precision_m: 0.5810 - val_recall_m: 0.5810\n",
      "Epoch 9/100\n",
      "39/39 - 0s - 10ms/step - accuracy: 0.9976 - f1_m: 0.9976 - loss: 0.0044 - precision_m: 0.9976 - recall_m: 0.9976 - val_accuracy: 0.5793 - val_f1_m: 0.5901 - val_loss: 4.6994 - val_precision_m: 0.5931 - val_recall_m: 0.5872\n",
      "Epoch 10/100\n",
      "39/39 - 0s - 10ms/step - accuracy: 0.9976 - f1_m: 0.9976 - loss: 0.0074 - precision_m: 0.9976 - recall_m: 0.9976 - val_accuracy: 0.5761 - val_f1_m: 0.5836 - val_loss: 4.6844 - val_precision_m: 0.5864 - val_recall_m: 0.5810\n",
      "Epoch 11/100\n",
      "39/39 - 0s - 10ms/step - accuracy: 0.9976 - f1_m: 0.9976 - loss: 0.0045 - precision_m: 0.9976 - recall_m: 0.9976 - val_accuracy: 0.5728 - val_f1_m: 0.5829 - val_loss: 4.6978 - val_precision_m: 0.5849 - val_recall_m: 0.5810\n",
      "Epoch 12/100\n",
      "39/39 - 0s - 11ms/step - accuracy: 0.9968 - f1_m: 0.9968 - loss: 0.0063 - precision_m: 0.9968 - recall_m: 0.9968 - val_accuracy: 0.5728 - val_f1_m: 0.5829 - val_loss: 4.7106 - val_precision_m: 0.5849 - val_recall_m: 0.5810\n",
      "Epoch 13/100\n",
      "39/39 - 0s - 10ms/step - accuracy: 0.9984 - f1_m: 0.9984 - loss: 0.0044 - precision_m: 0.9984 - recall_m: 0.9984 - val_accuracy: 0.5761 - val_f1_m: 0.5841 - val_loss: 4.7186 - val_precision_m: 0.5841 - val_recall_m: 0.5841\n",
      "Epoch 14/100\n",
      "39/39 - 0s - 11ms/step - accuracy: 0.9976 - f1_m: 0.9976 - loss: 0.0050 - precision_m: 0.9976 - recall_m: 0.9976 - val_accuracy: 0.5696 - val_f1_m: 0.5778 - val_loss: 4.7419 - val_precision_m: 0.5778 - val_recall_m: 0.5778\n",
      "Epoch 15/100\n",
      "39/39 - 0s - 10ms/step - accuracy: 0.9959 - f1_m: 0.9968 - loss: 0.0046 - precision_m: 0.9976 - recall_m: 0.9960 - val_accuracy: 0.5728 - val_f1_m: 0.5810 - val_loss: 4.7342 - val_precision_m: 0.5810 - val_recall_m: 0.5810\n",
      "Epoch 16/100\n",
      "39/39 - 0s - 11ms/step - accuracy: 0.9976 - f1_m: 0.9976 - loss: 0.0047 - precision_m: 0.9976 - recall_m: 0.9976 - val_accuracy: 0.5728 - val_f1_m: 0.5810 - val_loss: 4.7313 - val_precision_m: 0.5810 - val_recall_m: 0.5810\n",
      "Epoch 17/100\n",
      "39/39 - 0s - 10ms/step - accuracy: 0.9984 - f1_m: 0.9984 - loss: 0.0035 - precision_m: 0.9984 - recall_m: 0.9984 - val_accuracy: 0.5761 - val_f1_m: 0.5841 - val_loss: 4.7400 - val_precision_m: 0.5841 - val_recall_m: 0.5841\n",
      "Epoch 18/100\n",
      "39/39 - 0s - 11ms/step - accuracy: 0.9976 - f1_m: 0.9972 - loss: 0.0054 - precision_m: 0.9976 - recall_m: 0.9968 - val_accuracy: 0.5793 - val_f1_m: 0.5872 - val_loss: 4.7293 - val_precision_m: 0.5872 - val_recall_m: 0.5872\n",
      "Epoch 19/100\n",
      "39/39 - 0s - 10ms/step - accuracy: 0.9976 - f1_m: 0.9976 - loss: 0.0048 - precision_m: 0.9976 - recall_m: 0.9976 - val_accuracy: 0.5825 - val_f1_m: 0.5913 - val_loss: 4.7207 - val_precision_m: 0.5922 - val_recall_m: 0.5903\n",
      "Epoch 20/100\n",
      "39/39 - 0s - 10ms/step - accuracy: 0.9968 - f1_m: 0.9968 - loss: 0.0054 - precision_m: 0.9968 - recall_m: 0.9968 - val_accuracy: 0.5825 - val_f1_m: 0.5913 - val_loss: 4.7220 - val_precision_m: 0.5922 - val_recall_m: 0.5903\n",
      "Epoch 21/100\n",
      "39/39 - 0s - 10ms/step - accuracy: 0.9984 - f1_m: 0.9984 - loss: 0.0042 - precision_m: 0.9984 - recall_m: 0.9984 - val_accuracy: 0.5793 - val_f1_m: 0.5872 - val_loss: 4.7406 - val_precision_m: 0.5872 - val_recall_m: 0.5872\n",
      "Epoch 22/100\n",
      "39/39 - 0s - 10ms/step - accuracy: 0.9976 - f1_m: 0.9976 - loss: 0.0038 - precision_m: 0.9976 - recall_m: 0.9976 - val_accuracy: 0.5793 - val_f1_m: 0.5879 - val_loss: 4.7408 - val_precision_m: 0.5887 - val_recall_m: 0.5872\n",
      "Epoch 23/100\n",
      "39/39 - 0s - 10ms/step - accuracy: 0.9992 - f1_m: 0.9992 - loss: 0.0036 - precision_m: 0.9992 - recall_m: 0.9992 - val_accuracy: 0.5793 - val_f1_m: 0.5881 - val_loss: 4.7382 - val_precision_m: 0.5891 - val_recall_m: 0.5872\n",
      "Epoch 24/100\n",
      "39/39 - 0s - 11ms/step - accuracy: 0.9984 - f1_m: 0.9984 - loss: 0.0041 - precision_m: 0.9984 - recall_m: 0.9984 - val_accuracy: 0.5761 - val_f1_m: 0.5841 - val_loss: 4.7487 - val_precision_m: 0.5841 - val_recall_m: 0.5841\n",
      "Epoch 25/100\n",
      "39/39 - 0s - 11ms/step - accuracy: 0.9984 - f1_m: 0.9984 - loss: 0.0050 - precision_m: 0.9984 - recall_m: 0.9984 - val_accuracy: 0.5793 - val_f1_m: 0.5872 - val_loss: 4.7492 - val_precision_m: 0.5872 - val_recall_m: 0.5872\n",
      "Epoch 26/100\n",
      "39/39 - 0s - 10ms/step - accuracy: 0.9976 - f1_m: 0.9976 - loss: 0.0050 - precision_m: 0.9976 - recall_m: 0.9976 - val_accuracy: 0.5728 - val_f1_m: 0.5810 - val_loss: 4.7752 - val_precision_m: 0.5810 - val_recall_m: 0.5810\n",
      "Epoch 27/100\n",
      "39/39 - 0s - 10ms/step - accuracy: 0.9968 - f1_m: 0.9968 - loss: 0.0054 - precision_m: 0.9968 - recall_m: 0.9968 - val_accuracy: 0.5761 - val_f1_m: 0.5860 - val_loss: 4.7611 - val_precision_m: 0.5879 - val_recall_m: 0.5841\n",
      "Epoch 28/100\n",
      "39/39 - 0s - 11ms/step - accuracy: 0.9976 - f1_m: 0.9972 - loss: 0.0049 - precision_m: 0.9976 - recall_m: 0.9968 - val_accuracy: 0.5728 - val_f1_m: 0.5819 - val_loss: 4.7657 - val_precision_m: 0.5829 - val_recall_m: 0.5810\n",
      "Epoch 29/100\n",
      "39/39 - 0s - 11ms/step - accuracy: 0.9976 - f1_m: 0.9976 - loss: 0.0042 - precision_m: 0.9976 - recall_m: 0.9976 - val_accuracy: 0.5761 - val_f1_m: 0.5860 - val_loss: 4.7582 - val_precision_m: 0.5879 - val_recall_m: 0.5841\n",
      "Epoch 30/100\n",
      "39/39 - 0s - 11ms/step - accuracy: 0.9976 - f1_m: 0.9976 - loss: 0.0049 - precision_m: 0.9976 - recall_m: 0.9976 - val_accuracy: 0.5728 - val_f1_m: 0.5818 - val_loss: 4.7816 - val_precision_m: 0.5828 - val_recall_m: 0.5810\n",
      "Epoch 31/100\n",
      "39/39 - 0s - 12ms/step - accuracy: 0.9984 - f1_m: 0.9984 - loss: 0.0039 - precision_m: 0.9984 - recall_m: 0.9984 - val_accuracy: 0.5728 - val_f1_m: 0.5818 - val_loss: 4.7924 - val_precision_m: 0.5828 - val_recall_m: 0.5810\n",
      "Epoch 32/100\n",
      "39/39 - 0s - 11ms/step - accuracy: 0.9984 - f1_m: 0.9980 - loss: 0.0041 - precision_m: 0.9984 - recall_m: 0.9976 - val_accuracy: 0.5696 - val_f1_m: 0.5787 - val_loss: 4.7862 - val_precision_m: 0.5796 - val_recall_m: 0.5778\n",
      "Epoch 33/100\n",
      "39/39 - 0s - 11ms/step - accuracy: 0.9992 - f1_m: 0.9992 - loss: 0.0039 - precision_m: 0.9992 - recall_m: 0.9992 - val_accuracy: 0.5696 - val_f1_m: 0.5787 - val_loss: 4.7936 - val_precision_m: 0.5796 - val_recall_m: 0.5778\n",
      "Epoch 34/100\n",
      "39/39 - 0s - 11ms/step - accuracy: 0.9968 - f1_m: 0.9968 - loss: 0.0046 - precision_m: 0.9968 - recall_m: 0.9968 - val_accuracy: 0.5696 - val_f1_m: 0.5798 - val_loss: 4.7852 - val_precision_m: 0.5818 - val_recall_m: 0.5778\n",
      "Epoch 35/100\n",
      "39/39 - 0s - 10ms/step - accuracy: 0.9968 - f1_m: 0.9968 - loss: 0.0045 - precision_m: 0.9968 - recall_m: 0.9968 - val_accuracy: 0.5696 - val_f1_m: 0.5798 - val_loss: 4.7736 - val_precision_m: 0.5818 - val_recall_m: 0.5778\n",
      "Epoch 36/100\n",
      "39/39 - 0s - 11ms/step - accuracy: 0.9976 - f1_m: 0.9976 - loss: 0.0046 - precision_m: 0.9976 - recall_m: 0.9976 - val_accuracy: 0.5696 - val_f1_m: 0.5798 - val_loss: 4.7692 - val_precision_m: 0.5818 - val_recall_m: 0.5778\n",
      "Epoch 37/100\n",
      "39/39 - 0s - 10ms/step - accuracy: 0.9968 - f1_m: 0.9972 - loss: 0.0041 - precision_m: 0.9976 - recall_m: 0.9968 - val_accuracy: 0.5696 - val_f1_m: 0.5787 - val_loss: 4.7798 - val_precision_m: 0.5796 - val_recall_m: 0.5778\n",
      "Epoch 38/100\n",
      "39/39 - 0s - 10ms/step - accuracy: 0.9959 - f1_m: 0.9960 - loss: 0.0071 - precision_m: 0.9960 - recall_m: 0.9960 - val_accuracy: 0.5696 - val_f1_m: 0.5787 - val_loss: 4.7897 - val_precision_m: 0.5796 - val_recall_m: 0.5778\n",
      "Epoch 39/100\n",
      "39/39 - 0s - 10ms/step - accuracy: 0.9968 - f1_m: 0.9968 - loss: 0.0047 - precision_m: 0.9968 - recall_m: 0.9968 - val_accuracy: 0.5696 - val_f1_m: 0.5787 - val_loss: 4.7810 - val_precision_m: 0.5796 - val_recall_m: 0.5778\n",
      "Epoch 40/100\n",
      "39/39 - 0s - 10ms/step - accuracy: 0.9968 - f1_m: 0.9968 - loss: 0.0046 - precision_m: 0.9968 - recall_m: 0.9968 - val_accuracy: 0.5696 - val_f1_m: 0.5787 - val_loss: 4.7888 - val_precision_m: 0.5796 - val_recall_m: 0.5778\n",
      "Epoch 41/100\n",
      "39/39 - 0s - 10ms/step - accuracy: 0.9976 - f1_m: 0.9976 - loss: 0.0065 - precision_m: 0.9976 - recall_m: 0.9976 - val_accuracy: 0.5631 - val_f1_m: 0.5725 - val_loss: 4.7748 - val_precision_m: 0.5734 - val_recall_m: 0.5716\n",
      "Epoch 42/100\n",
      "39/39 - 0s - 11ms/step - accuracy: 0.9959 - f1_m: 0.9960 - loss: 0.0047 - precision_m: 0.9960 - recall_m: 0.9960 - val_accuracy: 0.5631 - val_f1_m: 0.5725 - val_loss: 4.7784 - val_precision_m: 0.5734 - val_recall_m: 0.5716\n",
      "Epoch 43/100\n",
      "39/39 - 0s - 10ms/step - accuracy: 0.9984 - f1_m: 0.9984 - loss: 0.0043 - precision_m: 0.9984 - recall_m: 0.9984 - val_accuracy: 0.5631 - val_f1_m: 0.5716 - val_loss: 4.7849 - val_precision_m: 0.5716 - val_recall_m: 0.5716\n",
      "Epoch 44/100\n",
      "39/39 - 0s - 10ms/step - accuracy: 0.9984 - f1_m: 0.9984 - loss: 0.0040 - precision_m: 0.9984 - recall_m: 0.9984 - val_accuracy: 0.5728 - val_f1_m: 0.5828 - val_loss: 4.7809 - val_precision_m: 0.5848 - val_recall_m: 0.5810\n",
      "Epoch 45/100\n",
      "39/39 - 0s - 10ms/step - accuracy: 0.9976 - f1_m: 0.9976 - loss: 0.0048 - precision_m: 0.9976 - recall_m: 0.9976 - val_accuracy: 0.5728 - val_f1_m: 0.5810 - val_loss: 4.7901 - val_precision_m: 0.5810 - val_recall_m: 0.5810\n",
      "Epoch 46/100\n",
      "39/39 - 0s - 10ms/step - accuracy: 0.9968 - f1_m: 0.9968 - loss: 0.0061 - precision_m: 0.9968 - recall_m: 0.9968 - val_accuracy: 0.5663 - val_f1_m: 0.5756 - val_loss: 4.7774 - val_precision_m: 0.5765 - val_recall_m: 0.5747\n",
      "Epoch 47/100\n",
      "39/39 - 0s - 10ms/step - accuracy: 0.9984 - f1_m: 0.9984 - loss: 0.0039 - precision_m: 0.9984 - recall_m: 0.9984 - val_accuracy: 0.5728 - val_f1_m: 0.5819 - val_loss: 4.7834 - val_precision_m: 0.5829 - val_recall_m: 0.5810\n",
      "Epoch 48/100\n",
      "39/39 - 0s - 10ms/step - accuracy: 0.9959 - f1_m: 0.9960 - loss: 0.0059 - precision_m: 0.9960 - recall_m: 0.9960 - val_accuracy: 0.5728 - val_f1_m: 0.5788 - val_loss: 4.7832 - val_precision_m: 0.5797 - val_recall_m: 0.5778\n",
      "Epoch 49/100\n",
      "39/39 - 0s - 10ms/step - accuracy: 0.9968 - f1_m: 0.9968 - loss: 0.0053 - precision_m: 0.9968 - recall_m: 0.9968 - val_accuracy: 0.5761 - val_f1_m: 0.5819 - val_loss: 4.7708 - val_precision_m: 0.5829 - val_recall_m: 0.5810\n",
      "Epoch 50/100\n",
      "39/39 - 0s - 10ms/step - accuracy: 0.9976 - f1_m: 0.9976 - loss: 0.0045 - precision_m: 0.9976 - recall_m: 0.9976 - val_accuracy: 0.5728 - val_f1_m: 0.5819 - val_loss: 4.7751 - val_precision_m: 0.5829 - val_recall_m: 0.5810\n",
      "Epoch 51/100\n",
      "39/39 - 0s - 11ms/step - accuracy: 0.9968 - f1_m: 0.9968 - loss: 0.0059 - precision_m: 0.9968 - recall_m: 0.9968 - val_accuracy: 0.5761 - val_f1_m: 0.5850 - val_loss: 4.7698 - val_precision_m: 0.5860 - val_recall_m: 0.5841\n",
      "Epoch 52/100\n",
      "39/39 - 0s - 10ms/step - accuracy: 0.9968 - f1_m: 0.9968 - loss: 0.0046 - precision_m: 0.9968 - recall_m: 0.9968 - val_accuracy: 0.5728 - val_f1_m: 0.5810 - val_loss: 4.7831 - val_precision_m: 0.5810 - val_recall_m: 0.5810\n",
      "Epoch 53/100\n",
      "39/39 - 0s - 11ms/step - accuracy: 0.9976 - f1_m: 0.9976 - loss: 0.0046 - precision_m: 0.9976 - recall_m: 0.9976 - val_accuracy: 0.5663 - val_f1_m: 0.5747 - val_loss: 4.7943 - val_precision_m: 0.5747 - val_recall_m: 0.5747\n",
      "Epoch 54/100\n",
      "39/39 - 0s - 11ms/step - accuracy: 0.9984 - f1_m: 0.9984 - loss: 0.0033 - precision_m: 0.9984 - recall_m: 0.9984 - val_accuracy: 0.5728 - val_f1_m: 0.5810 - val_loss: 4.7960 - val_precision_m: 0.5810 - val_recall_m: 0.5810\n",
      "Epoch 55/100\n",
      "39/39 - 0s - 10ms/step - accuracy: 0.9976 - f1_m: 0.9976 - loss: 0.0046 - precision_m: 0.9976 - recall_m: 0.9976 - val_accuracy: 0.5761 - val_f1_m: 0.5828 - val_loss: 4.7912 - val_precision_m: 0.5848 - val_recall_m: 0.5810\n",
      "Epoch 56/100\n",
      "39/39 - 0s - 11ms/step - accuracy: 0.9976 - f1_m: 0.9976 - loss: 0.0051 - precision_m: 0.9976 - recall_m: 0.9976 - val_accuracy: 0.5793 - val_f1_m: 0.5860 - val_loss: 4.7918 - val_precision_m: 0.5880 - val_recall_m: 0.5841\n",
      "Epoch 57/100\n",
      "39/39 - 0s - 11ms/step - accuracy: 0.9968 - f1_m: 0.9968 - loss: 0.0055 - precision_m: 0.9968 - recall_m: 0.9968 - val_accuracy: 0.5696 - val_f1_m: 0.5778 - val_loss: 4.8096 - val_precision_m: 0.5778 - val_recall_m: 0.5778\n",
      "Epoch 58/100\n",
      "39/39 - 0s - 11ms/step - accuracy: 0.9976 - f1_m: 0.9976 - loss: 0.0043 - precision_m: 0.9976 - recall_m: 0.9976 - val_accuracy: 0.5663 - val_f1_m: 0.5747 - val_loss: 4.8202 - val_precision_m: 0.5747 - val_recall_m: 0.5747\n",
      "Epoch 59/100\n",
      "39/39 - 0s - 11ms/step - accuracy: 0.9976 - f1_m: 0.9976 - loss: 0.0040 - precision_m: 0.9976 - recall_m: 0.9976 - val_accuracy: 0.5696 - val_f1_m: 0.5787 - val_loss: 4.8078 - val_precision_m: 0.5796 - val_recall_m: 0.5778\n",
      "Epoch 60/100\n",
      "39/39 - 0s - 11ms/step - accuracy: 0.9984 - f1_m: 0.9984 - loss: 0.0037 - precision_m: 0.9984 - recall_m: 0.9984 - val_accuracy: 0.5728 - val_f1_m: 0.5819 - val_loss: 4.8062 - val_precision_m: 0.5829 - val_recall_m: 0.5810\n",
      "Epoch 61/100\n",
      "39/39 - 0s - 11ms/step - accuracy: 0.9968 - f1_m: 0.9968 - loss: 0.0052 - precision_m: 0.9968 - recall_m: 0.9968 - val_accuracy: 0.5728 - val_f1_m: 0.5818 - val_loss: 4.8100 - val_precision_m: 0.5828 - val_recall_m: 0.5810\n",
      "Epoch 62/100\n",
      "39/39 - 0s - 11ms/step - accuracy: 0.9968 - f1_m: 0.9961 - loss: 0.0043 - precision_m: 0.9961 - recall_m: 0.9961 - val_accuracy: 0.5631 - val_f1_m: 0.5716 - val_loss: 4.8331 - val_precision_m: 0.5716 - val_recall_m: 0.5716\n",
      "Epoch 63/100\n",
      "39/39 - 0s - 10ms/step - accuracy: 0.9976 - f1_m: 0.9976 - loss: 0.0045 - precision_m: 0.9976 - recall_m: 0.9976 - val_accuracy: 0.5631 - val_f1_m: 0.5725 - val_loss: 4.8314 - val_precision_m: 0.5734 - val_recall_m: 0.5716\n",
      "Epoch 64/100\n",
      "39/39 - 0s - 11ms/step - accuracy: 0.9968 - f1_m: 0.9968 - loss: 0.0051 - precision_m: 0.9968 - recall_m: 0.9968 - val_accuracy: 0.5631 - val_f1_m: 0.5716 - val_loss: 4.8387 - val_precision_m: 0.5716 - val_recall_m: 0.5716\n",
      "Epoch 65/100\n",
      "39/39 - 0s - 10ms/step - accuracy: 0.9976 - f1_m: 0.9976 - loss: 0.0055 - precision_m: 0.9976 - recall_m: 0.9976 - val_accuracy: 0.5696 - val_f1_m: 0.5787 - val_loss: 4.8268 - val_precision_m: 0.5796 - val_recall_m: 0.5778\n",
      "Epoch 66/100\n",
      "39/39 - 0s - 11ms/step - accuracy: 0.9976 - f1_m: 0.9976 - loss: 0.0039 - precision_m: 0.9976 - recall_m: 0.9976 - val_accuracy: 0.5663 - val_f1_m: 0.5765 - val_loss: 4.8324 - val_precision_m: 0.5784 - val_recall_m: 0.5747\n",
      "Epoch 67/100\n",
      "39/39 - 0s - 12ms/step - accuracy: 0.9976 - f1_m: 0.9976 - loss: 0.0050 - precision_m: 0.9976 - recall_m: 0.9976 - val_accuracy: 0.5663 - val_f1_m: 0.5756 - val_loss: 4.8304 - val_precision_m: 0.5766 - val_recall_m: 0.5747\n",
      "Epoch 68/100\n",
      "39/39 - 0s - 11ms/step - accuracy: 0.9976 - f1_m: 0.9976 - loss: 0.0051 - precision_m: 0.9976 - recall_m: 0.9976 - val_accuracy: 0.5696 - val_f1_m: 0.5778 - val_loss: 4.8322 - val_precision_m: 0.5778 - val_recall_m: 0.5778\n",
      "Epoch 69/100\n",
      "39/39 - 0s - 10ms/step - accuracy: 0.9968 - f1_m: 0.9968 - loss: 0.0048 - precision_m: 0.9968 - recall_m: 0.9968 - val_accuracy: 0.5631 - val_f1_m: 0.5725 - val_loss: 4.8344 - val_precision_m: 0.5735 - val_recall_m: 0.5716\n",
      "Epoch 70/100\n",
      "39/39 - 0s - 11ms/step - accuracy: 0.9976 - f1_m: 0.9980 - loss: 0.0036 - precision_m: 0.9984 - recall_m: 0.9976 - val_accuracy: 0.5696 - val_f1_m: 0.5797 - val_loss: 4.8229 - val_precision_m: 0.5816 - val_recall_m: 0.5778\n",
      "Epoch 71/100\n",
      "39/39 - 0s - 11ms/step - accuracy: 0.9976 - f1_m: 0.9972 - loss: 0.0041 - precision_m: 0.9976 - recall_m: 0.9968 - val_accuracy: 0.5696 - val_f1_m: 0.5797 - val_loss: 4.8228 - val_precision_m: 0.5816 - val_recall_m: 0.5778\n",
      "Epoch 72/100\n",
      "39/39 - 0s - 11ms/step - accuracy: 0.9968 - f1_m: 0.9968 - loss: 0.0050 - precision_m: 0.9968 - recall_m: 0.9968 - val_accuracy: 0.5663 - val_f1_m: 0.5747 - val_loss: 4.8351 - val_precision_m: 0.5747 - val_recall_m: 0.5747\n",
      "Epoch 73/100\n",
      "39/39 - 0s - 10ms/step - accuracy: 0.9984 - f1_m: 0.9984 - loss: 0.0033 - precision_m: 0.9984 - recall_m: 0.9984 - val_accuracy: 0.5663 - val_f1_m: 0.5756 - val_loss: 4.8326 - val_precision_m: 0.5766 - val_recall_m: 0.5747\n",
      "Epoch 74/100\n",
      "39/39 - 0s - 11ms/step - accuracy: 0.9968 - f1_m: 0.9968 - loss: 0.0055 - precision_m: 0.9968 - recall_m: 0.9968 - val_accuracy: 0.5663 - val_f1_m: 0.5765 - val_loss: 4.8244 - val_precision_m: 0.5784 - val_recall_m: 0.5747\n",
      "Epoch 75/100\n",
      "39/39 - 0s - 11ms/step - accuracy: 0.9976 - f1_m: 0.9976 - loss: 0.0051 - precision_m: 0.9976 - recall_m: 0.9976 - val_accuracy: 0.5599 - val_f1_m: 0.5685 - val_loss: 4.8452 - val_precision_m: 0.5685 - val_recall_m: 0.5685\n",
      "Epoch 76/100\n",
      "39/39 - 0s - 11ms/step - accuracy: 0.9951 - f1_m: 0.9952 - loss: 0.0051 - precision_m: 0.9952 - recall_m: 0.9952 - val_accuracy: 0.5663 - val_f1_m: 0.5747 - val_loss: 4.8589 - val_precision_m: 0.5747 - val_recall_m: 0.5747\n",
      "Epoch 77/100\n",
      "39/39 - 0s - 11ms/step - accuracy: 0.9968 - f1_m: 0.9968 - loss: 0.0048 - precision_m: 0.9968 - recall_m: 0.9968 - val_accuracy: 0.5663 - val_f1_m: 0.5747 - val_loss: 4.8612 - val_precision_m: 0.5747 - val_recall_m: 0.5747\n",
      "Epoch 78/100\n",
      "39/39 - 0s - 11ms/step - accuracy: 0.9968 - f1_m: 0.9968 - loss: 0.0057 - precision_m: 0.9968 - recall_m: 0.9968 - val_accuracy: 0.5663 - val_f1_m: 0.5747 - val_loss: 4.8420 - val_precision_m: 0.5747 - val_recall_m: 0.5747\n",
      "Epoch 79/100\n",
      "39/39 - 0s - 11ms/step - accuracy: 0.9976 - f1_m: 0.9976 - loss: 0.0051 - precision_m: 0.9976 - recall_m: 0.9976 - val_accuracy: 0.5663 - val_f1_m: 0.5747 - val_loss: 4.8400 - val_precision_m: 0.5747 - val_recall_m: 0.5747\n",
      "Epoch 80/100\n",
      "39/39 - 0s - 11ms/step - accuracy: 0.9968 - f1_m: 0.9968 - loss: 0.0053 - precision_m: 0.9968 - recall_m: 0.9968 - val_accuracy: 0.5663 - val_f1_m: 0.5747 - val_loss: 4.8300 - val_precision_m: 0.5747 - val_recall_m: 0.5747\n",
      "Epoch 81/100\n",
      "39/39 - 0s - 11ms/step - accuracy: 0.9976 - f1_m: 0.9976 - loss: 0.0045 - precision_m: 0.9976 - recall_m: 0.9976 - val_accuracy: 0.5631 - val_f1_m: 0.5725 - val_loss: 4.8322 - val_precision_m: 0.5734 - val_recall_m: 0.5716\n",
      "Epoch 82/100\n",
      "39/39 - 0s - 11ms/step - accuracy: 0.9968 - f1_m: 0.9968 - loss: 0.0051 - precision_m: 0.9968 - recall_m: 0.9968 - val_accuracy: 0.5696 - val_f1_m: 0.5778 - val_loss: 4.8390 - val_precision_m: 0.5778 - val_recall_m: 0.5778\n",
      "Epoch 83/100\n",
      "39/39 - 0s - 11ms/step - accuracy: 0.9976 - f1_m: 0.9976 - loss: 0.0042 - precision_m: 0.9976 - recall_m: 0.9976 - val_accuracy: 0.5696 - val_f1_m: 0.5778 - val_loss: 4.8399 - val_precision_m: 0.5778 - val_recall_m: 0.5778\n",
      "Epoch 84/100\n",
      "39/39 - 0s - 12ms/step - accuracy: 0.9968 - f1_m: 0.9972 - loss: 0.0049 - precision_m: 0.9976 - recall_m: 0.9968 - val_accuracy: 0.5696 - val_f1_m: 0.5778 - val_loss: 4.8431 - val_precision_m: 0.5778 - val_recall_m: 0.5778\n",
      "Epoch 85/100\n",
      "39/39 - 0s - 11ms/step - accuracy: 0.9976 - f1_m: 0.9976 - loss: 0.0044 - precision_m: 0.9976 - recall_m: 0.9976 - val_accuracy: 0.5663 - val_f1_m: 0.5747 - val_loss: 4.8459 - val_precision_m: 0.5747 - val_recall_m: 0.5747\n",
      "Epoch 86/100\n",
      "39/39 - 0s - 11ms/step - accuracy: 0.9951 - f1_m: 0.9952 - loss: 0.0065 - precision_m: 0.9952 - recall_m: 0.9952 - val_accuracy: 0.5663 - val_f1_m: 0.5747 - val_loss: 4.8643 - val_precision_m: 0.5747 - val_recall_m: 0.5747\n",
      "Epoch 87/100\n",
      "39/39 - 0s - 10ms/step - accuracy: 0.9959 - f1_m: 0.9953 - loss: 0.0053 - precision_m: 0.9953 - recall_m: 0.9953 - val_accuracy: 0.5631 - val_f1_m: 0.5716 - val_loss: 4.8665 - val_precision_m: 0.5716 - val_recall_m: 0.5716\n",
      "Epoch 88/100\n",
      "39/39 - 0s - 11ms/step - accuracy: 0.9959 - f1_m: 0.9960 - loss: 0.0050 - precision_m: 0.9960 - recall_m: 0.9960 - val_accuracy: 0.5599 - val_f1_m: 0.5693 - val_loss: 4.8750 - val_precision_m: 0.5703 - val_recall_m: 0.5685\n",
      "Epoch 89/100\n",
      "39/39 - 0s - 11ms/step - accuracy: 0.9976 - f1_m: 0.9976 - loss: 0.0046 - precision_m: 0.9976 - recall_m: 0.9976 - val_accuracy: 0.5696 - val_f1_m: 0.5756 - val_loss: 4.8774 - val_precision_m: 0.5765 - val_recall_m: 0.5747\n",
      "Epoch 90/100\n",
      "39/39 - 0s - 11ms/step - accuracy: 0.9968 - f1_m: 0.9968 - loss: 0.0063 - precision_m: 0.9968 - recall_m: 0.9968 - val_accuracy: 0.5663 - val_f1_m: 0.5747 - val_loss: 4.8545 - val_precision_m: 0.5747 - val_recall_m: 0.5747\n",
      "Epoch 91/100\n",
      "39/39 - 0s - 11ms/step - accuracy: 0.9959 - f1_m: 0.9960 - loss: 0.0051 - precision_m: 0.9960 - recall_m: 0.9960 - val_accuracy: 0.5696 - val_f1_m: 0.5778 - val_loss: 4.8592 - val_precision_m: 0.5778 - val_recall_m: 0.5778\n",
      "Epoch 92/100\n",
      "39/39 - 0s - 11ms/step - accuracy: 0.9984 - f1_m: 0.9984 - loss: 0.0046 - precision_m: 0.9984 - recall_m: 0.9984 - val_accuracy: 0.5631 - val_f1_m: 0.5716 - val_loss: 4.8693 - val_precision_m: 0.5716 - val_recall_m: 0.5716\n",
      "Epoch 93/100\n",
      "39/39 - 0s - 11ms/step - accuracy: 0.9968 - f1_m: 0.9968 - loss: 0.0047 - precision_m: 0.9968 - recall_m: 0.9968 - val_accuracy: 0.5631 - val_f1_m: 0.5716 - val_loss: 4.8942 - val_precision_m: 0.5716 - val_recall_m: 0.5716\n",
      "Epoch 94/100\n",
      "39/39 - 0s - 11ms/step - accuracy: 0.9984 - f1_m: 0.9984 - loss: 0.0036 - precision_m: 0.9984 - recall_m: 0.9984 - val_accuracy: 0.5631 - val_f1_m: 0.5716 - val_loss: 4.8850 - val_precision_m: 0.5716 - val_recall_m: 0.5716\n",
      "Epoch 95/100\n",
      "39/39 - 0s - 11ms/step - accuracy: 0.9976 - f1_m: 0.9976 - loss: 0.0043 - precision_m: 0.9976 - recall_m: 0.9976 - val_accuracy: 0.5663 - val_f1_m: 0.5747 - val_loss: 4.8897 - val_precision_m: 0.5747 - val_recall_m: 0.5747\n",
      "Epoch 96/100\n",
      "39/39 - 0s - 11ms/step - accuracy: 0.9968 - f1_m: 0.9968 - loss: 0.0053 - precision_m: 0.9968 - recall_m: 0.9968 - val_accuracy: 0.5663 - val_f1_m: 0.5747 - val_loss: 4.8830 - val_precision_m: 0.5747 - val_recall_m: 0.5747\n",
      "Epoch 97/100\n",
      "39/39 - 0s - 11ms/step - accuracy: 0.9984 - f1_m: 0.9984 - loss: 0.0038 - precision_m: 0.9984 - recall_m: 0.9984 - val_accuracy: 0.5663 - val_f1_m: 0.5747 - val_loss: 4.8653 - val_precision_m: 0.5747 - val_recall_m: 0.5747\n",
      "Epoch 98/100\n",
      "39/39 - 0s - 11ms/step - accuracy: 0.9968 - f1_m: 0.9972 - loss: 0.0049 - precision_m: 0.9976 - recall_m: 0.9968 - val_accuracy: 0.5631 - val_f1_m: 0.5716 - val_loss: 4.8862 - val_precision_m: 0.5716 - val_recall_m: 0.5716\n",
      "Epoch 99/100\n",
      "39/39 - 0s - 11ms/step - accuracy: 0.9976 - f1_m: 0.9976 - loss: 0.0046 - precision_m: 0.9976 - recall_m: 0.9976 - val_accuracy: 0.5631 - val_f1_m: 0.5716 - val_loss: 4.8721 - val_precision_m: 0.5716 - val_recall_m: 0.5716\n",
      "Epoch 100/100\n",
      "39/39 - 0s - 11ms/step - accuracy: 0.9968 - f1_m: 0.9968 - loss: 0.0054 - precision_m: 0.9968 - recall_m: 0.9968 - val_accuracy: 0.5663 - val_f1_m: 0.5747 - val_loss: 4.9025 - val_precision_m: 0.5747 - val_recall_m: 0.5747\n"
     ]
    }
   ],
   "source": [
    "\n",
    "# Compile model\n",
    "model.compile(loss='categorical_crossentropy', optimizer=sgd, \n",
    "               metrics=['accuracy',f1_m, precision_m, recall_m])\n",
    "\n",
    "# Train model\n",
    "\n",
    "batch_size = 32\n",
    "history = model.fit(X_train, y_train,\n",
    "                      validation_data=(X_val, y_val),\n",
    "                      batch_size=batch_size, epochs=epochs, verbose=2)"
   ]
  },
  {
   "cell_type": "code",
   "execution_count": 359,
   "metadata": {},
   "outputs": [
    {
     "data": {
      "image/png": "[encoded data removed]",
      "text/plain": [
       "<Figure size 1000x400 with 1 Axes>"
      ]
     },
     "metadata": {},
     "output_type": "display_data"
    }
   ],
   "source": [
    "fig, ax = plt.subplots(figsize = (10, 4))\n",
    "ax.plot(history.history['f1_m'], label = 'train accuracy')\n",
    "ax.plot(history.history['val_f1_m'], label = 'val accuracy')\n",
    "ax.set_title('Model Accuracy')\n",
    "ax.set_xlabel('Epoch')\n",
    "ax.set_ylabel('Accuracy')\n",
    "ax.legend(loc = 'upper left')\n",
    "plt.show()"
   ]
  },
  {
   "cell_type": "code",
   "execution_count": 354,
   "metadata": {},
   "outputs": [],
   "source": [
    "def create_model(embed_dim = 16, hidden_unit = 16, dropout_rate = 0.2, optimizers = RMSprop, learning_rate = 0.001):\n",
    "    model = Sequential()\n",
    "    model.add(Embedding(input_dim = MAX_FEATURES, output_dim = embed_dim, input_length = X_train.shape[1]))\n",
    "    model.add(LSTM(units = hidden_unit, activation = 'tanh'))\n",
    "    model.add(Dropout(dropout_rate))\n",
    "    model.add(Dense(units = 3, activation = 'softmax'))\n",
    "    model.compile(loss = 'sparse_categorical_crossentropy', optimizer = optimizers(learning_rate = learning_rate), metrics = ['accuracy', f1_m, precision_m, recall_m])\n",
    "    print(model.summary())\n",
    "    return model"
   ]
  },
  {
   "cell_type": "code",
   "execution_count": 363,
   "metadata": {},
   "outputs": [
    {
     "data": {
      "text/html": [
       "<pre style=\"white-space:pre;overflow-x:auto;line-height:normal;font-family:Menlo,'DejaVu Sans Mono',consolas,'Courier New',monospace\"><span style=\"font-weight: bold\">Model: \"sequential_5\"</span>\n",
       "</pre>\n"
      ],
      "text/plain": [
       "\u001b[1mModel: \"sequential_5\"\u001b[0m\n"
      ]
     },
     "metadata": {},
     "output_type": "display_data"
    },
    {
     "data": {
      "text/html": [
       "<pre style=\"white-space:pre;overflow-x:auto;line-height:normal;font-family:Menlo,'DejaVu Sans Mono',consolas,'Courier New',monospace\">┏━━━━━━━━━━━━━━━━━━━━━━━━━━━━━━━━━┳━━━━━━━━━━━━━━━━━━━━━━━━┳━━━━━━━━━━━━━━━┓\n",
       "┃<span style=\"font-weight: bold\"> Layer (type)                    </span>┃<span style=\"font-weight: bold\"> Output Shape           </span>┃<span style=\"font-weight: bold\">       Param # </span>┃\n",
       "┡━━━━━━━━━━━━━━━━━━━━━━━━━━━━━━━━━╇━━━━━━━━━━━━━━━━━━━━━━━━╇━━━━━━━━━━━━━━━┩\n",
       "│ embedding_5 (<span style=\"color: #0087ff; text-decoration-color: #0087ff\">Embedding</span>)         │ ?                      │   <span style=\"color: #00af00; text-decoration-color: #00af00\">0</span> (unbuilt) │\n",
       "├─────────────────────────────────┼────────────────────────┼───────────────┤\n",
       "│ lstm_5 (<span style=\"color: #0087ff; text-decoration-color: #0087ff\">LSTM</span>)                   │ ?                      │   <span style=\"color: #00af00; text-decoration-color: #00af00\">0</span> (unbuilt) │\n",
       "├─────────────────────────────────┼────────────────────────┼───────────────┤\n",
       "│ dropout_5 (<span style=\"color: #0087ff; text-decoration-color: #0087ff\">Dropout</span>)             │ ?                      │   <span style=\"color: #00af00; text-decoration-color: #00af00\">0</span> (unbuilt) │\n",
       "├─────────────────────────────────┼────────────────────────┼───────────────┤\n",
       "│ dense_5 (<span style=\"color: #0087ff; text-decoration-color: #0087ff\">Dense</span>)                 │ ?                      │   <span style=\"color: #00af00; text-decoration-color: #00af00\">0</span> (unbuilt) │\n",
       "└─────────────────────────────────┴────────────────────────┴───────────────┘\n",
       "</pre>\n"
      ],
      "text/plain": [
       "┏━━━━━━━━━━━━━━━━━━━━━━━━━━━━━━━━━┳━━━━━━━━━━━━━━━━━━━━━━━━┳━━━━━━━━━━━━━━━┓\n",
       "┃\u001b[1m \u001b[0m\u001b[1mLayer (type)                   \u001b[0m\u001b[1m \u001b[0m┃\u001b[1m \u001b[0m\u001b[1mOutput Shape          \u001b[0m\u001b[1m \u001b[0m┃\u001b[1m \u001b[0m\u001b[1m      Param #\u001b[0m\u001b[1m \u001b[0m┃\n",
       "┡━━━━━━━━━━━━━━━━━━━━━━━━━━━━━━━━━╇━━━━━━━━━━━━━━━━━━━━━━━━╇━━━━━━━━━━━━━━━┩\n",
       "│ embedding_5 (\u001b[38;5;33mEmbedding\u001b[0m)         │ ?                      │   \u001b[38;5;34m0\u001b[0m (unbuilt) │\n",
       "├─────────────────────────────────┼────────────────────────┼───────────────┤\n",
       "│ lstm_5 (\u001b[38;5;33mLSTM\u001b[0m)                   │ ?                      │   \u001b[38;5;34m0\u001b[0m (unbuilt) │\n",
       "├─────────────────────────────────┼────────────────────────┼───────────────┤\n",
       "│ dropout_5 (\u001b[38;5;33mDropout\u001b[0m)             │ ?                      │   \u001b[38;5;34m0\u001b[0m (unbuilt) │\n",
       "├─────────────────────────────────┼────────────────────────┼───────────────┤\n",
       "│ dense_5 (\u001b[38;5;33mDense\u001b[0m)                 │ ?                      │   \u001b[38;5;34m0\u001b[0m (unbuilt) │\n",
       "└─────────────────────────────────┴────────────────────────┴───────────────┘\n"
      ]
     },
     "metadata": {},
     "output_type": "display_data"
    },
    {
     "data": {
      "text/html": [
       "<pre style=\"white-space:pre;overflow-x:auto;line-height:normal;font-family:Menlo,'DejaVu Sans Mono',consolas,'Courier New',monospace\"><span style=\"font-weight: bold\"> Total params: </span><span style=\"color: #00af00; text-decoration-color: #00af00\">0</span> (0.00 B)\n",
       "</pre>\n"
      ],
      "text/plain": [
       "\u001b[1m Total params: \u001b[0m\u001b[38;5;34m0\u001b[0m (0.00 B)\n"
      ]
     },
     "metadata": {},
     "output_type": "display_data"
    },
    {
     "data": {
      "text/html": [
       "<pre style=\"white-space:pre;overflow-x:auto;line-height:normal;font-family:Menlo,'DejaVu Sans Mono',consolas,'Courier New',monospace\"><span style=\"font-weight: bold\"> Trainable params: </span><span style=\"color: #00af00; text-decoration-color: #00af00\">0</span> (0.00 B)\n",
       "</pre>\n"
      ],
      "text/plain": [
       "\u001b[1m Trainable params: \u001b[0m\u001b[38;5;34m0\u001b[0m (0.00 B)\n"
      ]
     },
     "metadata": {},
     "output_type": "display_data"
    },
    {
     "data": {
      "text/html": [
       "<pre style=\"white-space:pre;overflow-x:auto;line-height:normal;font-family:Menlo,'DejaVu Sans Mono',consolas,'Courier New',monospace\"><span style=\"font-weight: bold\"> Non-trainable params: </span><span style=\"color: #00af00; text-decoration-color: #00af00\">0</span> (0.00 B)\n",
       "</pre>\n"
      ],
      "text/plain": [
       "\u001b[1m Non-trainable params: \u001b[0m\u001b[38;5;34m0\u001b[0m (0.00 B)\n"
      ]
     },
     "metadata": {},
     "output_type": "display_data"
    },
    {
     "name": "stdout",
     "output_type": "stream",
     "text": [
      "None\n",
      "Epoch 1/100\n"
     ]
    },
    {
     "ename": "ValueError",
     "evalue": "Argument `output` must have rank (ndim) `target.ndim - 1`. Received: target.shape=(None, 3), output.shape=(None, 3)",
     "output_type": "error",
     "traceback": [
      "\u001b[0;31m---------------------------------------------------------------------------\u001b[0m",
      "\u001b[0;31mValueError\u001b[0m                                Traceback (most recent call last)",
      "Cell \u001b[0;32mIn[363], line 6\u001b[0m\n\u001b[1;32m      4\u001b[0m model2 \u001b[38;5;241m=\u001b[39m create_model()\n\u001b[1;32m      5\u001b[0m batch_size \u001b[38;5;241m=\u001b[39m \u001b[38;5;241m64\u001b[39m\n\u001b[0;32m----> 6\u001b[0m history2 \u001b[38;5;241m=\u001b[39m \u001b[43mmodel2\u001b[49m\u001b[38;5;241;43m.\u001b[39;49m\u001b[43mfit\u001b[49m\u001b[43m(\u001b[49m\u001b[43mX_train\u001b[49m\u001b[43m,\u001b[49m\u001b[43m \u001b[49m\u001b[43my_train\u001b[49m\u001b[43m,\u001b[49m\n\u001b[1;32m      7\u001b[0m \u001b[43m                      \u001b[49m\u001b[43mvalidation_data\u001b[49m\u001b[38;5;241;43m=\u001b[39;49m\u001b[43m(\u001b[49m\u001b[43mX_val\u001b[49m\u001b[43m,\u001b[49m\u001b[43m \u001b[49m\u001b[43my_val\u001b[49m\u001b[43m)\u001b[49m\u001b[43m,\u001b[49m\n\u001b[1;32m      8\u001b[0m \u001b[43m                      \u001b[49m\u001b[43mbatch_size\u001b[49m\u001b[38;5;241;43m=\u001b[39;49m\u001b[43mbatch_size\u001b[49m\u001b[43m,\u001b[49m\u001b[43m \u001b[49m\u001b[43mepochs\u001b[49m\u001b[38;5;241;43m=\u001b[39;49m\u001b[43mepochs\u001b[49m\u001b[43m,\u001b[49m\u001b[43m \u001b[49m\u001b[43mverbose\u001b[49m\u001b[38;5;241;43m=\u001b[39;49m\u001b[38;5;241;43m2\u001b[39;49m\u001b[43m)\u001b[49m\n",
      "File \u001b[0;32m/opt/anaconda3/envs/pr_1_venv/lib/python3.10/site-packages/keras/src/utils/traceback_utils.py:122\u001b[0m, in \u001b[0;36mfilter_traceback.<locals>.error_handler\u001b[0;34m(*args, **kwargs)\u001b[0m\n\u001b[1;32m    119\u001b[0m     filtered_tb \u001b[38;5;241m=\u001b[39m _process_traceback_frames(e\u001b[38;5;241m.\u001b[39m__traceback__)\n\u001b[1;32m    120\u001b[0m     \u001b[38;5;66;03m# To get the full stack trace, call:\u001b[39;00m\n\u001b[1;32m    121\u001b[0m     \u001b[38;5;66;03m# `keras.config.disable_traceback_filtering()`\u001b[39;00m\n\u001b[0;32m--> 122\u001b[0m     \u001b[38;5;28;01mraise\u001b[39;00m e\u001b[38;5;241m.\u001b[39mwith_traceback(filtered_tb) \u001b[38;5;28;01mfrom\u001b[39;00m \u001b[38;5;28;01mNone\u001b[39;00m\n\u001b[1;32m    123\u001b[0m \u001b[38;5;28;01mfinally\u001b[39;00m:\n\u001b[1;32m    124\u001b[0m     \u001b[38;5;28;01mdel\u001b[39;00m filtered_tb\n",
      "File \u001b[0;32m/opt/anaconda3/envs/pr_1_venv/lib/python3.10/site-packages/keras/src/backend/tensorflow/nn.py:619\u001b[0m, in \u001b[0;36msparse_categorical_crossentropy\u001b[0;34m(target, output, from_logits, axis)\u001b[0m\n\u001b[1;32m    613\u001b[0m     \u001b[38;5;28;01mraise\u001b[39;00m \u001b[38;5;167;01mValueError\u001b[39;00m(\n\u001b[1;32m    614\u001b[0m         \u001b[38;5;124m\"\u001b[39m\u001b[38;5;124mArgument `output` must be at least rank 1. \u001b[39m\u001b[38;5;124m\"\u001b[39m\n\u001b[1;32m    615\u001b[0m         \u001b[38;5;124m\"\u001b[39m\u001b[38;5;124mReceived: \u001b[39m\u001b[38;5;124m\"\u001b[39m\n\u001b[1;32m    616\u001b[0m         \u001b[38;5;124mf\u001b[39m\u001b[38;5;124m\"\u001b[39m\u001b[38;5;124moutput.shape=\u001b[39m\u001b[38;5;132;01m{\u001b[39;00moutput\u001b[38;5;241m.\u001b[39mshape\u001b[38;5;132;01m}\u001b[39;00m\u001b[38;5;124m\"\u001b[39m\n\u001b[1;32m    617\u001b[0m     )\n\u001b[1;32m    618\u001b[0m \u001b[38;5;28;01mif\u001b[39;00m \u001b[38;5;28mlen\u001b[39m(target\u001b[38;5;241m.\u001b[39mshape) \u001b[38;5;241m!=\u001b[39m \u001b[38;5;28mlen\u001b[39m(output\u001b[38;5;241m.\u001b[39mshape[:\u001b[38;5;241m-\u001b[39m\u001b[38;5;241m1\u001b[39m]):\n\u001b[0;32m--> 619\u001b[0m     \u001b[38;5;28;01mraise\u001b[39;00m \u001b[38;5;167;01mValueError\u001b[39;00m(\n\u001b[1;32m    620\u001b[0m         \u001b[38;5;124m\"\u001b[39m\u001b[38;5;124mArgument `output` must have rank (ndim) `target.ndim - 1`. \u001b[39m\u001b[38;5;124m\"\u001b[39m\n\u001b[1;32m    621\u001b[0m         \u001b[38;5;124m\"\u001b[39m\u001b[38;5;124mReceived: \u001b[39m\u001b[38;5;124m\"\u001b[39m\n\u001b[1;32m    622\u001b[0m         \u001b[38;5;124mf\u001b[39m\u001b[38;5;124m\"\u001b[39m\u001b[38;5;124mtarget.shape=\u001b[39m\u001b[38;5;132;01m{\u001b[39;00mtarget\u001b[38;5;241m.\u001b[39mshape\u001b[38;5;132;01m}\u001b[39;00m\u001b[38;5;124m, output.shape=\u001b[39m\u001b[38;5;132;01m{\u001b[39;00moutput\u001b[38;5;241m.\u001b[39mshape\u001b[38;5;132;01m}\u001b[39;00m\u001b[38;5;124m\"\u001b[39m\n\u001b[1;32m    623\u001b[0m     )\n\u001b[1;32m    624\u001b[0m \u001b[38;5;28;01mfor\u001b[39;00m e1, e2 \u001b[38;5;129;01min\u001b[39;00m \u001b[38;5;28mzip\u001b[39m(target\u001b[38;5;241m.\u001b[39mshape, output\u001b[38;5;241m.\u001b[39mshape[:\u001b[38;5;241m-\u001b[39m\u001b[38;5;241m1\u001b[39m]):\n\u001b[1;32m    625\u001b[0m     \u001b[38;5;28;01mif\u001b[39;00m e1 \u001b[38;5;129;01mis\u001b[39;00m \u001b[38;5;129;01mnot\u001b[39;00m \u001b[38;5;28;01mNone\u001b[39;00m \u001b[38;5;129;01mand\u001b[39;00m e2 \u001b[38;5;129;01mis\u001b[39;00m \u001b[38;5;129;01mnot\u001b[39;00m \u001b[38;5;28;01mNone\u001b[39;00m \u001b[38;5;129;01mand\u001b[39;00m e1 \u001b[38;5;241m!=\u001b[39m e2:\n",
      "\u001b[0;31mValueError\u001b[0m: Argument `output` must have rank (ndim) `target.ndim - 1`. Received: target.shape=(None, 3), output.shape=(None, 3)"
     ]
    }
   ],
   "source": [
    "# If y_train and y_val are one-hot encoded, convert them to integer labels\n",
    "y_train_int = np.argmax(y_train, axis=1)\n",
    "y_val_int = np.argmax(y_val, axis=1)\n",
    "model2 = create_model()\n",
    "batch_size = 64\n",
    "history2 = model2.fit(X_train, y_train,\n",
    "                      validation_data=(X_val, y_val),\n",
    "                      batch_size=batch_size, epochs=epochs, verbose=2)"
   ]
  },
  {
   "cell_type": "code",
   "execution_count": 319,
   "metadata": {},
   "outputs": [
    {
     "ename": "NameError",
     "evalue": "name 'model_prediction' is not defined",
     "output_type": "error",
     "traceback": [
      "\u001b[0;31m---------------------------------------------------------------------------\u001b[0m",
      "\u001b[0;31mNameError\u001b[0m                                 Traceback (most recent call last)",
      "Cell \u001b[0;32mIn[319], line 2\u001b[0m\n\u001b[1;32m      1\u001b[0m fig, ax \u001b[38;5;241m=\u001b[39m plt\u001b[38;5;241m.\u001b[39msubplots(figsize \u001b[38;5;241m=\u001b[39m (\u001b[38;5;241m10\u001b[39m, \u001b[38;5;241m4\u001b[39m))\n\u001b[0;32m----> 2\u001b[0m ax\u001b[38;5;241m.\u001b[39mplot(\u001b[43mmodel_prediction\u001b[49m\u001b[38;5;241m.\u001b[39mhistory[\u001b[38;5;124m'\u001b[39m\u001b[38;5;124mloss\u001b[39m\u001b[38;5;124m'\u001b[39m], label \u001b[38;5;241m=\u001b[39m \u001b[38;5;124m'\u001b[39m\u001b[38;5;124mtrain loss\u001b[39m\u001b[38;5;124m'\u001b[39m)\n\u001b[1;32m      3\u001b[0m ax\u001b[38;5;241m.\u001b[39mplot(model_prediction\u001b[38;5;241m.\u001b[39mhistory[\u001b[38;5;124m'\u001b[39m\u001b[38;5;124mval_loss\u001b[39m\u001b[38;5;124m'\u001b[39m], label \u001b[38;5;241m=\u001b[39m \u001b[38;5;124m'\u001b[39m\u001b[38;5;124mval loss\u001b[39m\u001b[38;5;124m'\u001b[39m)\n\u001b[1;32m      4\u001b[0m ax\u001b[38;5;241m.\u001b[39mset_title(\u001b[38;5;124m'\u001b[39m\u001b[38;5;124mModel Loss\u001b[39m\u001b[38;5;124m'\u001b[39m)\n",
      "\u001b[0;31mNameError\u001b[0m: name 'model_prediction' is not defined"
     ]
    },
    {
     "data": {
      "image/png": "[encoded data removed]",
      "text/plain": [
       "<Figure size 1000x400 with 1 Axes>"
      ]
     },
     "metadata": {},
     "output_type": "display_data"
    }
   ],
   "source": [
    "fig, ax = plt.subplots(figsize = (10, 4))\n",
    "ax.plot(history2.history['loss'], label = 'train loss')\n",
    "ax.plot(history2.history['val_loss'], label = 'val loss')\n",
    "ax.set_title('Model Loss')\n",
    "ax.set_xlabel('Epoch')\n",
    "ax.set_ylabel('Loss')\n",
    "ax.legend(loc = 'upper left')\n",
    "plt.show()"
   ]
  },
  {
   "cell_type": "code",
   "execution_count": 347,
   "metadata": {},
   "outputs": [
    {
     "name": "stdout",
     "output_type": "stream",
     "text": [
      "Reloading Tuner from hyperparam_tuning/lstm_tuning/tuner0.json\n"
     ]
    }
   ],
   "source": [
    "import keras_tuner\n",
    "from keras_tuner import BayesianOptimization\n",
    "\n",
    "# Set up the tuner\n",
    "tuner = BayesianOptimization(\n",
    "    create_model,\n",
    "    objective=keras_tuner.Objective(\"val_precission\", direction=\"max\"),  # or any other objective such as 'val_loss'\n",
    "    max_trials=1000,\n",
    "    directory='hyperparam_tuning',\n",
    "    project_name='lstm_tuning'\n",
    ")\n"
   ]
  },
  {
   "cell_type": "code",
   "execution_count": 341,
   "metadata": {},
   "outputs": [
    {
     "name": "stdout",
     "output_type": "stream",
     "text": [
      "Trial 1 Complete [00h 00m 01s]\n",
      "\n",
      "Best val_accuracy So Far: None\n",
      "Total elapsed time: 00h 00m 01s\n"
     ]
    }
   ],
   "source": [
    "tuner.search(X_train, y_train, epochs=5, validation_data=(X_val, y_val), batch_size=32)"
   ]
  },
  {
   "cell_type": "code",
   "execution_count": null,
   "metadata": {},
   "outputs": [],
   "source": []
  }
 ],
 "metadata": {
  "kernelspec": {
   "display_name": "pr_1_venv",
   "language": "python",
   "name": "python3"
  },
  "language_info": {
   "codemirror_mode": {
    "name": "ipython",
    "version": 3
   },
   "file_extension": ".py",
   "mimetype": "text/x-python",
   "name": "python",
   "nbconvert_exporter": "python",
   "pygments_lexer": "ipython3",
   "version": "3.1.undefined"
  }
 },
 "nbformat": 4,
 "nbformat_minor": 2
}
